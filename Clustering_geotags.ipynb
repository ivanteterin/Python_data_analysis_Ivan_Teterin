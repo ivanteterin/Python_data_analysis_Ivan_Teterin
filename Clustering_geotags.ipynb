{
 "cells": [
  {
   "cell_type": "markdown",
   "metadata": {},
   "source": [
    "# Кластеризация координат в Foursquare"
   ]
  },
  {
   "cell_type": "markdown",
   "metadata": {},
   "source": [
    "## Чтение данных из .dat файла"
   ]
  },
  {
   "cell_type": "code",
   "execution_count": 1,
   "metadata": {},
   "outputs": [],
   "source": [
    "import warnings\n",
    "warnings.filterwarnings('ignore')"
   ]
  },
  {
   "cell_type": "code",
   "execution_count": 4,
   "metadata": {},
   "outputs": [],
   "source": [
    "with open('checkins.dat', 'r') as file1:\n",
    "    with open('checkins-new.dat', 'w') as file2:\n",
    "        for index, line in enumerate (file1):\n",
    "            newLine=line.replace(' ', '').replace('|',',')\n",
    "            if (index!=1):\n",
    "                file2.write(newLine)"
   ]
  },
  {
   "cell_type": "code",
   "execution_count": 6,
   "metadata": {},
   "outputs": [],
   "source": [
    "import pandas as pd\n",
    "data=pd.read_csv('checkins-new.dat').dropna()"
   ]
  },
  {
   "cell_type": "code",
   "execution_count": 7,
   "metadata": {},
   "outputs": [
    {
     "data": {
      "text/html": [
       "<div>\n",
       "<style scoped>\n",
       "    .dataframe tbody tr th:only-of-type {\n",
       "        vertical-align: middle;\n",
       "    }\n",
       "\n",
       "    .dataframe tbody tr th {\n",
       "        vertical-align: top;\n",
       "    }\n",
       "\n",
       "    .dataframe thead th {\n",
       "        text-align: right;\n",
       "    }\n",
       "</style>\n",
       "<table border=\"1\" class=\"dataframe\">\n",
       "  <thead>\n",
       "    <tr style=\"text-align: right;\">\n",
       "      <th></th>\n",
       "      <th>id</th>\n",
       "      <th>user_id</th>\n",
       "      <th>venue_id</th>\n",
       "      <th>latitude</th>\n",
       "      <th>longitude</th>\n",
       "      <th>created_at</th>\n",
       "    </tr>\n",
       "  </thead>\n",
       "  <tbody>\n",
       "    <tr>\n",
       "      <th>1</th>\n",
       "      <td>984222</td>\n",
       "      <td>15824.0</td>\n",
       "      <td>5222.0</td>\n",
       "      <td>38.895112</td>\n",
       "      <td>-77.036366</td>\n",
       "      <td>2012-04-2117:43:47</td>\n",
       "    </tr>\n",
       "    <tr>\n",
       "      <th>3</th>\n",
       "      <td>984234</td>\n",
       "      <td>44652.0</td>\n",
       "      <td>5222.0</td>\n",
       "      <td>33.800745</td>\n",
       "      <td>-84.410520</td>\n",
       "      <td>2012-04-2117:43:43</td>\n",
       "    </tr>\n",
       "    <tr>\n",
       "      <th>7</th>\n",
       "      <td>984291</td>\n",
       "      <td>105054.0</td>\n",
       "      <td>5222.0</td>\n",
       "      <td>45.523452</td>\n",
       "      <td>-122.676207</td>\n",
       "      <td>2012-04-2117:39:22</td>\n",
       "    </tr>\n",
       "    <tr>\n",
       "      <th>9</th>\n",
       "      <td>984318</td>\n",
       "      <td>2146539.0</td>\n",
       "      <td>5222.0</td>\n",
       "      <td>40.764462</td>\n",
       "      <td>-111.904565</td>\n",
       "      <td>2012-04-2117:35:46</td>\n",
       "    </tr>\n",
       "    <tr>\n",
       "      <th>10</th>\n",
       "      <td>984232</td>\n",
       "      <td>93870.0</td>\n",
       "      <td>380645.0</td>\n",
       "      <td>33.448377</td>\n",
       "      <td>-112.074037</td>\n",
       "      <td>2012-04-2117:38:18</td>\n",
       "    </tr>\n",
       "  </tbody>\n",
       "</table>\n",
       "</div>"
      ],
      "text/plain": [
       "        id    user_id  venue_id   latitude   longitude          created_at\n",
       "1   984222    15824.0    5222.0  38.895112  -77.036366  2012-04-2117:43:47\n",
       "3   984234    44652.0    5222.0  33.800745  -84.410520  2012-04-2117:43:43\n",
       "7   984291   105054.0    5222.0  45.523452 -122.676207  2012-04-2117:39:22\n",
       "9   984318  2146539.0    5222.0  40.764462 -111.904565  2012-04-2117:35:46\n",
       "10  984232    93870.0  380645.0  33.448377 -112.074037  2012-04-2117:38:18"
      ]
     },
     "execution_count": 7,
     "metadata": {},
     "output_type": "execute_result"
    }
   ],
   "source": [
    "data.head()"
   ]
  },
  {
   "cell_type": "code",
   "execution_count": 8,
   "metadata": {},
   "outputs": [
    {
     "data": {
      "text/plain": [
       "396634"
      ]
     },
     "execution_count": 8,
     "metadata": {},
     "output_type": "execute_result"
    }
   ],
   "source": [
    "len(data['id'])"
   ]
  },
  {
   "cell_type": "markdown",
   "metadata": {},
   "source": [
    "Восстановление нумерации"
   ]
  },
  {
   "cell_type": "code",
   "execution_count": 24,
   "metadata": {},
   "outputs": [
    {
     "data": {
      "text/html": [
       "<div>\n",
       "<style scoped>\n",
       "    .dataframe tbody tr th:only-of-type {\n",
       "        vertical-align: middle;\n",
       "    }\n",
       "\n",
       "    .dataframe tbody tr th {\n",
       "        vertical-align: top;\n",
       "    }\n",
       "\n",
       "    .dataframe thead th {\n",
       "        text-align: right;\n",
       "    }\n",
       "</style>\n",
       "<table border=\"1\" class=\"dataframe\">\n",
       "  <thead>\n",
       "    <tr style=\"text-align: right;\">\n",
       "      <th></th>\n",
       "      <th>id</th>\n",
       "      <th>user_id</th>\n",
       "      <th>venue_id</th>\n",
       "      <th>latitude</th>\n",
       "      <th>longitude</th>\n",
       "      <th>created_at</th>\n",
       "    </tr>\n",
       "  </thead>\n",
       "  <tbody>\n",
       "    <tr>\n",
       "      <th>0</th>\n",
       "      <td>984222</td>\n",
       "      <td>15824.0</td>\n",
       "      <td>5222.0</td>\n",
       "      <td>38.895112</td>\n",
       "      <td>-77.036366</td>\n",
       "      <td>2012-04-2117:43:47</td>\n",
       "    </tr>\n",
       "    <tr>\n",
       "      <th>1</th>\n",
       "      <td>984234</td>\n",
       "      <td>44652.0</td>\n",
       "      <td>5222.0</td>\n",
       "      <td>33.800745</td>\n",
       "      <td>-84.410520</td>\n",
       "      <td>2012-04-2117:43:43</td>\n",
       "    </tr>\n",
       "    <tr>\n",
       "      <th>2</th>\n",
       "      <td>984291</td>\n",
       "      <td>105054.0</td>\n",
       "      <td>5222.0</td>\n",
       "      <td>45.523452</td>\n",
       "      <td>-122.676207</td>\n",
       "      <td>2012-04-2117:39:22</td>\n",
       "    </tr>\n",
       "    <tr>\n",
       "      <th>3</th>\n",
       "      <td>984318</td>\n",
       "      <td>2146539.0</td>\n",
       "      <td>5222.0</td>\n",
       "      <td>40.764462</td>\n",
       "      <td>-111.904565</td>\n",
       "      <td>2012-04-2117:35:46</td>\n",
       "    </tr>\n",
       "    <tr>\n",
       "      <th>4</th>\n",
       "      <td>984232</td>\n",
       "      <td>93870.0</td>\n",
       "      <td>380645.0</td>\n",
       "      <td>33.448377</td>\n",
       "      <td>-112.074037</td>\n",
       "      <td>2012-04-2117:38:18</td>\n",
       "    </tr>\n",
       "  </tbody>\n",
       "</table>\n",
       "</div>"
      ],
      "text/plain": [
       "       id    user_id  venue_id   latitude   longitude          created_at\n",
       "0  984222    15824.0    5222.0  38.895112  -77.036366  2012-04-2117:43:47\n",
       "1  984234    44652.0    5222.0  33.800745  -84.410520  2012-04-2117:43:43\n",
       "2  984291   105054.0    5222.0  45.523452 -122.676207  2012-04-2117:39:22\n",
       "3  984318  2146539.0    5222.0  40.764462 -111.904565  2012-04-2117:35:46\n",
       "4  984232    93870.0  380645.0  33.448377 -112.074037  2012-04-2117:38:18"
      ]
     },
     "execution_count": 24,
     "metadata": {},
     "output_type": "execute_result"
    }
   ],
   "source": [
    "data.reset_index(drop=True, inplace=True)\n",
    "data.head()"
   ]
  },
  {
   "cell_type": "markdown",
   "metadata": {},
   "source": [
    "Сокращение датасета до 100 000 строк"
   ]
  },
  {
   "cell_type": "code",
   "execution_count": 32,
   "metadata": {},
   "outputs": [
    {
     "name": "stdout",
     "output_type": "stream",
     "text": [
      "       id    user_id  venue_id   latitude   longitude          created_at\n",
      "0  984222    15824.0    5222.0  38.895112  -77.036366  2012-04-2117:43:47\n",
      "1  984234    44652.0    5222.0  33.800745  -84.410520  2012-04-2117:43:43\n",
      "2  984291   105054.0    5222.0  45.523452 -122.676207  2012-04-2117:39:22\n",
      "3  984318  2146539.0    5222.0  40.764462 -111.904565  2012-04-2117:35:46\n",
      "4  984232    93870.0  380645.0  33.448377 -112.074037  2012-04-2117:38:18\n"
     ]
    }
   ],
   "source": [
    "#for i in range (100001, 396634):\n",
    "df1=data.query('index<=100000')\n",
    "print(df1.head())"
   ]
  },
  {
   "cell_type": "code",
   "execution_count": 28,
   "metadata": {},
   "outputs": [
    {
     "data": {
      "text/plain": [
       "(100001, 6)"
      ]
     },
     "execution_count": 28,
     "metadata": {},
     "output_type": "execute_result"
    }
   ],
   "source": [
    "df1.shape"
   ]
  },
  {
   "cell_type": "markdown",
   "metadata": {},
   "source": [
    "Оставим только столбцы с координатами"
   ]
  },
  {
   "cell_type": "code",
   "execution_count": 33,
   "metadata": {},
   "outputs": [
    {
     "data": {
      "text/html": [
       "<div>\n",
       "<style scoped>\n",
       "    .dataframe tbody tr th:only-of-type {\n",
       "        vertical-align: middle;\n",
       "    }\n",
       "\n",
       "    .dataframe tbody tr th {\n",
       "        vertical-align: top;\n",
       "    }\n",
       "\n",
       "    .dataframe thead th {\n",
       "        text-align: right;\n",
       "    }\n",
       "</style>\n",
       "<table border=\"1\" class=\"dataframe\">\n",
       "  <thead>\n",
       "    <tr style=\"text-align: right;\">\n",
       "      <th></th>\n",
       "      <th>latitude</th>\n",
       "      <th>longitude</th>\n",
       "    </tr>\n",
       "  </thead>\n",
       "  <tbody>\n",
       "    <tr>\n",
       "      <th>0</th>\n",
       "      <td>38.895112</td>\n",
       "      <td>-77.036366</td>\n",
       "    </tr>\n",
       "    <tr>\n",
       "      <th>1</th>\n",
       "      <td>33.800745</td>\n",
       "      <td>-84.410520</td>\n",
       "    </tr>\n",
       "    <tr>\n",
       "      <th>2</th>\n",
       "      <td>45.523452</td>\n",
       "      <td>-122.676207</td>\n",
       "    </tr>\n",
       "    <tr>\n",
       "      <th>3</th>\n",
       "      <td>40.764462</td>\n",
       "      <td>-111.904565</td>\n",
       "    </tr>\n",
       "    <tr>\n",
       "      <th>4</th>\n",
       "      <td>33.448377</td>\n",
       "      <td>-112.074037</td>\n",
       "    </tr>\n",
       "  </tbody>\n",
       "</table>\n",
       "</div>"
      ],
      "text/plain": [
       "    latitude   longitude\n",
       "0  38.895112  -77.036366\n",
       "1  33.800745  -84.410520\n",
       "2  45.523452 -122.676207\n",
       "3  40.764462 -111.904565\n",
       "4  33.448377 -112.074037"
      ]
     },
     "execution_count": 33,
     "metadata": {},
     "output_type": "execute_result"
    }
   ],
   "source": [
    "del df1['id']\n",
    "del df1['user_id']\n",
    "del df1['venue_id']\n",
    "del df1['created_at']\n",
    "df1.head()"
   ]
  },
  {
   "cell_type": "markdown",
   "metadata": {},
   "source": [
    "Графическое представление"
   ]
  },
  {
   "cell_type": "code",
   "execution_count": 37,
   "metadata": {},
   "outputs": [
    {
     "data": {
      "image/png": "[encoded data removed]",
      "text/plain": [
       "<Figure size 432x288 with 1 Axes>"
      ]
     },
     "metadata": {
      "needs_background": "light"
     },
     "output_type": "display_data"
    }
   ],
   "source": [
    "%matplotlib inline\n",
    "df1.plot.scatter(x='latitude', y='longitude', s=0.1);"
   ]
  },
  {
   "cell_type": "markdown",
   "metadata": {},
   "source": [
    "## Кластеризация"
   ]
  },
  {
   "cell_type": "markdown",
   "metadata": {},
   "source": [
    "Представление координат в массиве numpy"
   ]
  },
  {
   "cell_type": "code",
   "execution_count": 42,
   "metadata": {},
   "outputs": [],
   "source": [
    "import numpy as np\n",
    "matrix=df1.to_numpy()"
   ]
  },
  {
   "cell_type": "code",
   "execution_count": 44,
   "metadata": {},
   "outputs": [
    {
     "name": "stdout",
     "output_type": "stream",
     "text": [
      "[[  38.8951118  -77.0363658]\n",
      " [  33.800745   -84.41052  ]\n",
      " [  45.5234515 -122.6762071]\n",
      " [  40.764462  -111.904565 ]\n",
      " [  33.4483771 -112.0740373]]\n"
     ]
    }
   ],
   "source": [
    "print(matrix[0:5,:])"
   ]
  },
  {
   "cell_type": "code",
   "execution_count": 45,
   "metadata": {},
   "outputs": [],
   "source": [
    "from sklearn.cluster import MeanShift\n",
    "\n",
    "model = MeanShift(bandwidth=0.1).fit(matrix)\n",
    "clusters = model.cluster_centers_"
   ]
  },
  {
   "cell_type": "code",
   "execution_count": 46,
   "metadata": {},
   "outputs": [
    {
     "data": {
      "text/plain": [
       "array([[  40.7177164 ,  -73.99183542],\n",
       "       [  33.44943805, -112.00213969],\n",
       "       [  33.44638027, -111.90188756],\n",
       "       ...,\n",
       "       [ -37.8229826 ,  145.1811902 ],\n",
       "       [ -41.2924945 ,  174.7732353 ],\n",
       "       [ -45.0311622 ,  168.6626435 ]])"
      ]
     },
     "execution_count": 46,
     "metadata": {},
     "output_type": "execute_result"
    }
   ],
   "source": [
    "clusters"
   ]
  },
  {
   "cell_type": "code",
   "execution_count": 47,
   "metadata": {},
   "outputs": [
    {
     "data": {
      "text/plain": [
       "(3231, 2)"
      ]
     },
     "execution_count": 47,
     "metadata": {},
     "output_type": "execute_result"
    }
   ],
   "source": [
    "clusters.shape"
   ]
  },
  {
   "cell_type": "code",
   "execution_count": 48,
   "metadata": {},
   "outputs": [
    {
     "data": {
      "text/plain": [
       "numpy.ndarray"
      ]
     },
     "execution_count": 48,
     "metadata": {},
     "output_type": "execute_result"
    }
   ],
   "source": [
    "type(clusters)"
   ]
  },
  {
   "cell_type": "code",
   "execution_count": 103,
   "metadata": {},
   "outputs": [],
   "source": [
    "clusters1=clusters"
   ]
  },
  {
   "cell_type": "markdown",
   "metadata": {},
   "source": [
    "Координаты офисов"
   ]
  },
  {
   "cell_type": "code",
   "execution_count": 49,
   "metadata": {},
   "outputs": [],
   "source": [
    "office=np.array([[33.751277, -118.188740],\n",
    "               [25.867736, -80.324116],\n",
    "               [51.503016, -0.075479],\n",
    "               [52.378894, 4.885084],\n",
    "               [39.366487, 117.036146],\n",
    "               [-33.868457, 151.205134]])"
   ]
  },
  {
   "cell_type": "code",
   "execution_count": 50,
   "metadata": {},
   "outputs": [
    {
     "data": {
      "text/plain": [
       "array([[ 3.37512770e+01, -1.18188740e+02],\n",
       "       [ 2.58677360e+01, -8.03241160e+01],\n",
       "       [ 5.15030160e+01, -7.54790000e-02],\n",
       "       [ 5.23788940e+01,  4.88508400e+00],\n",
       "       [ 3.93664870e+01,  1.17036146e+02],\n",
       "       [-3.38684570e+01,  1.51205134e+02]])"
      ]
     },
     "execution_count": 50,
     "metadata": {},
     "output_type": "execute_result"
    }
   ],
   "source": [
    "office"
   ]
  },
  {
   "cell_type": "code",
   "execution_count": 73,
   "metadata": {},
   "outputs": [],
   "source": [
    "from matplotlib import pyplot as plt"
   ]
  },
  {
   "cell_type": "code",
   "execution_count": 76,
   "metadata": {},
   "outputs": [
    {
     "name": "stdout",
     "output_type": "stream",
     "text": [
      "-118.18874\n"
     ]
    }
   ],
   "source": [
    "print(office[0,1])"
   ]
  },
  {
   "cell_type": "code",
   "execution_count": 80,
   "metadata": {},
   "outputs": [
    {
     "data": {
      "image/png": "[encoded data removed]",
      "text/plain": [
       "<Figure size 432x288 with 1 Axes>"
      ]
     },
     "metadata": {
      "needs_background": "light"
     },
     "output_type": "display_data"
    }
   ],
   "source": [
    "#plt.scatter(office[:,0], office[:,1], c='red')\n",
    "plt.scatter(clusters[:,0], clusters[:,1], c='blue')\n",
    "plt.scatter(office[:,0], office[:,1], c='red');"
   ]
  },
  {
   "cell_type": "code",
   "execution_count": 65,
   "metadata": {},
   "outputs": [
    {
     "data": {
      "text/plain": [
       "(100001,)"
      ]
     },
     "execution_count": 65,
     "metadata": {},
     "output_type": "execute_result"
    }
   ],
   "source": [
    "model.labels_.shape"
   ]
  },
  {
   "cell_type": "code",
   "execution_count": 81,
   "metadata": {},
   "outputs": [
    {
     "name": "stdout",
     "output_type": "stream",
     "text": [
      "(array([ 38.8951118, -77.0363658]), 5)\n",
      "(array([ 33.800745, -84.41052 ]), 7)\n",
      "(array([  45.5234515, -122.6762071]), 30)\n",
      "(array([  40.764462, -111.904565]), 65)\n",
      "(array([  33.4483771, -112.0740373]), 1)\n",
      "(array([  32.2217429, -110.926479 ]), 23)\n",
      "(array([ 40.65, -73.95]), 0)\n",
      "(array([  33.4483771, -112.0740373]), 1)\n",
      "(array([  33.414768 , -111.9093095]), 2)\n",
      "(array([ 42.3584308, -71.0597732]), 8)\n",
      "(array([  33.4483771, -112.0740373]), 1)\n",
      "(array([  33.414768 , -111.9093095]), 2)\n",
      "(array([  33.4483771, -112.0740373]), 1)\n",
      "(array([  33.2486638, -111.6342993]), 137)\n",
      "(array([  32.8406775, -117.2587935]), 237)\n",
      "(array([  34.0522342, -118.2436849]), 11)\n",
      "(array([  33.414768 , -111.9093095]), 2)\n",
      "(array([  33.4483771, -112.0740373]), 1)\n",
      "(array([  34.483901 , -114.3224548]), 507)\n",
      "(array([  34.0489281, -111.0937311]), 45)\n",
      "(array([  32.7153292, -117.1572551]), 22)\n"
     ]
    }
   ],
   "source": [
    "ticker=0\n",
    "for line in zip(matrix, model.labels_):\n",
    "    print (line)\n",
    "    ticker+=1\n",
    "    if ticker>20:\n",
    "        break"
   ]
  },
  {
   "cell_type": "code",
   "execution_count": 82,
   "metadata": {},
   "outputs": [
    {
     "name": "stdout",
     "output_type": "stream",
     "text": [
      "Counter({0: 12506, 1: 4692, 2: 3994, 4: 3527, 3: 3363, 5: 2409, 6: 2297, 7: 1601, 8: 1526, 9: 1378, 10: 1298, 11: 1081, 13: 1007, 12: 1006, 31: 907, 16: 870, 15: 868, 18: 808, 19: 807, 22: 754, 23: 747, 21: 722, 14: 714, 28: 679, 25: 656, 17: 645, 20: 612, 30: 594, 26: 580, 27: 577, 29: 564, 24: 539, 33: 502, 34: 452, 32: 449, 36: 431, 37: 410, 39: 400, 38: 388, 42: 384, 40: 369, 41: 367, 50: 355, 43: 347, 44: 345, 45: 342, 52: 336, 49: 316, 48: 314, 46: 314, 54: 293, 61: 291, 51: 281, 47: 273, 53: 271, 56: 263, 57: 258, 58: 254, 55: 246, 59: 243, 60: 229, 79: 220, 72: 203, 80: 199, 67: 197, 68: 196, 66: 193, 74: 192, 69: 191, 90: 190, 70: 189, 71: 187, 65: 186, 62: 182, 73: 178, 76: 173, 75: 169, 81: 164, 82: 162, 78: 157, 84: 155, 63: 155, 77: 153, 85: 152, 89: 142, 88: 141, 92: 138, 64: 137, 93: 135, 101: 135, 102: 135, 96: 134, 231: 134, 94: 133, 99: 132, 95: 131, 98: 130, 116: 126, 83: 126, 97: 122, 147: 121, 103: 120, 104: 119, 128: 118, 91: 117, 105: 116, 110: 114, 108: 114, 112: 112, 118: 110, 115: 110, 106: 110, 100: 109, 117: 106, 35: 104, 120: 103, 139: 103, 121: 102, 122: 101, 152: 101, 87: 100, 123: 100, 133: 99, 127: 99, 143: 99, 125: 99, 129: 98, 111: 98, 136: 97, 135: 97, 144: 95, 132: 95, 134: 95, 141: 95, 137: 92, 107: 91, 138: 91, 142: 87, 124: 85, 145: 85, 199: 84, 131: 84, 158: 84, 150: 83, 227: 82, 151: 81, 167: 80, 109: 79, 154: 79, 155: 79, 156: 79, 149: 78, 160: 78, 157: 78, 179: 78, 177: 77, 166: 76, 165: 76, 176: 76, 170: 74, 163: 74, 119: 74, 171: 74, 172: 74, 114: 74, 174: 73, 126: 72, 175: 71, 140: 71, 181: 69, 180: 69, 178: 69, 162: 68, 184: 68, 182: 68, 186: 67, 113: 67, 187: 67, 190: 66, 188: 66, 189: 65, 148: 65, 395: 64, 193: 64, 164: 63, 195: 63, 197: 63, 198: 63, 201: 62, 204: 61, 205: 61, 202: 61, 153: 61, 203: 61, 207: 60, 305: 59, 191: 59, 315: 59, 213: 58, 212: 58, 235: 58, 215: 58, 258: 58, 206: 58, 216: 57, 224: 57, 214: 57, 161: 57, 168: 56, 220: 56, 221: 56, 217: 56, 219: 56, 86: 56, 211: 56, 223: 55, 196: 54, 228: 54, 233: 53, 194: 53, 302: 53, 234: 53, 236: 52, 245: 52, 169: 52, 249: 52, 230: 52, 295: 51, 241: 51, 173: 51, 232: 51, 237: 50, 246: 50, 239: 50, 247: 50, 253: 50, 243: 50, 251: 50, 244: 50, 185: 50, 210: 50, 264: 49, 255: 49, 265: 49, 273: 49, 252: 49, 248: 49, 254: 48, 218: 48, 262: 47, 285: 47, 260: 47, 209: 46, 269: 46, 268: 46, 344: 46, 364: 46, 266: 46, 257: 46, 284: 45, 276: 45, 272: 45, 270: 45, 286: 45, 275: 45, 279: 45, 277: 45, 259: 44, 289: 44, 242: 44, 256: 44, 183: 44, 274: 44, 278: 44, 330: 43, 200: 43, 271: 43, 283: 43, 293: 43, 353: 42, 292: 42, 159: 42, 240: 42, 318: 42, 222: 42, 287: 42, 290: 42, 288: 42, 296: 41, 298: 41, 322: 41, 297: 41, 309: 41, 281: 40, 267: 40, 304: 40, 299: 40, 300: 40, 303: 40, 312: 39, 306: 39, 320: 38, 326: 38, 313: 38, 319: 38, 317: 38, 263: 38, 238: 38, 226: 38, 314: 38, 261: 38, 352: 37, 339: 37, 291: 37, 325: 37, 379: 37, 362: 37, 229: 37, 225: 37, 307: 37, 360: 37, 321: 37, 327: 37, 331: 36, 250: 36, 329: 36, 332: 36, 294: 36, 333: 36, 192: 36, 323: 35, 334: 35, 337: 35, 343: 35, 310: 35, 324: 35, 349: 35, 338: 35, 388: 34, 350: 34, 345: 34, 347: 34, 340: 34, 348: 34, 342: 34, 146: 33, 354: 33, 346: 33, 355: 33, 328: 33, 358: 33, 301: 33, 357: 33, 356: 33, 367: 32, 366: 32, 468: 32, 365: 32, 392: 32, 394: 32, 363: 32, 368: 32, 316: 32, 385: 32, 369: 32, 282: 32, 371: 31, 370: 31, 372: 31, 378: 31, 381: 31, 501: 31, 382: 31, 383: 31, 380: 31, 376: 31, 359: 31, 311: 30, 387: 30, 389: 30, 403: 29, 413: 29, 399: 29, 498: 29, 401: 29, 402: 29, 443: 29, 396: 29, 398: 29, 400: 29, 405: 28, 416: 28, 420: 28, 384: 28, 417: 28, 418: 28, 419: 28, 406: 28, 426: 28, 414: 28, 375: 28, 377: 28, 407: 28, 404: 28, 415: 28, 409: 28, 411: 28, 423: 27, 446: 27, 431: 27, 422: 27, 544: 27, 430: 27, 393: 27, 424: 27, 433: 27, 351: 27, 130: 27, 421: 27, 425: 27, 428: 27, 447: 27, 341: 27, 429: 27, 432: 27, 427: 26, 448: 26, 437: 26, 457: 26, 442: 26, 412: 26, 436: 26, 440: 26, 445: 26, 466: 26, 435: 26, 434: 26, 444: 26, 583: 26, 727: 26, 373: 25, 438: 25, 410: 25, 454: 25, 449: 25, 456: 25, 390: 25, 308: 24, 469: 24, 408: 24, 467: 24, 451: 24, 460: 24, 439: 24, 459: 24, 463: 24, 464: 24, 208: 24, 455: 24, 458: 24, 335: 24, 491: 24, 475: 23, 474: 23, 478: 23, 453: 23, 480: 23, 441: 23, 472: 23, 477: 23, 476: 23, 527: 23, 470: 23, 490: 23, 482: 23, 481: 23, 884: 23, 483: 23, 485: 22, 495: 22, 461: 22, 487: 22, 486: 22, 492: 22, 499: 22, 484: 22, 497: 22, 582: 22, 493: 22, 494: 22, 489: 22, 496: 22, 507: 21, 509: 21, 503: 21, 473: 21, 510: 21, 502: 21, 529: 21, 500: 21, 526: 21, 506: 21, 505: 21, 488: 21, 465: 21, 1343: 21, 556: 21, 361: 21, 504: 21, 519: 20, 518: 20, 511: 20, 515: 20, 512: 20, 514: 20, 520: 20, 462: 20, 521: 20, 471: 20, 522: 19, 1350: 19, 534: 19, 533: 19, 532: 19, 537: 19, 531: 19, 535: 19, 524: 19, 585: 19, 517: 19, 684: 19, 528: 19, 536: 19, 530: 19, 538: 19, 452: 19, 551: 18, 554: 18, 540: 18, 539: 18, 545: 18, 553: 18, 542: 18, 523: 18, 549: 18, 636: 18, 550: 18, 555: 18, 552: 18, 541: 18, 547: 18, 546: 18, 525: 18, 562: 17, 559: 17, 560: 17, 569: 17, 566: 17, 567: 17, 374: 17, 513: 17, 558: 17, 565: 17, 568: 17, 508: 17, 557: 17, 584: 17, 615: 17, 561: 17, 564: 17, 571: 17, 577: 16, 581: 16, 672: 16, 578: 16, 592: 16, 572: 16, 575: 16, 594: 16, 593: 16, 450: 16, 280: 16, 579: 16, 397: 16, 589: 16, 657: 16, 588: 16, 595: 16, 576: 16, 591: 16, 573: 16, 590: 16, 610: 15, 617: 15, 600: 15, 602: 15, 629: 15, 630: 15, 618: 15, 597: 15, 611: 15, 543: 15, 614: 15, 599: 15, 548: 15, 613: 15, 574: 15, 604: 15, 606: 15, 603: 15, 609: 15, 580: 15, 607: 15, 598: 15, 612: 15, 712: 15, 619: 15, 391: 15, 601: 15, 623: 15, 516: 15, 596: 15, 641: 15, 616: 15, 634: 14, 621: 14, 640: 14, 620: 14, 622: 14, 635: 14, 570: 14, 639: 14, 638: 14, 628: 14, 633: 14, 626: 14, 631: 14, 624: 14, 608: 14, 625: 14, 642: 14, 479: 14, 637: 14, 673: 13, 632: 13, 645: 13, 661: 13, 644: 13, 674: 13, 666: 13, 671: 13, 647: 13, 652: 13, 651: 13, 643: 13, 662: 13, 675: 13, 669: 13, 654: 13, 648: 13, 670: 13, 686: 13, 667: 13, 668: 13, 658: 13, 660: 13, 586: 13, 646: 13, 751: 13, 563: 13, 682: 13, 650: 13, 653: 13, 665: 13, 649: 13, 696: 12, 697: 12, 690: 12, 699: 12, 678: 12, 705: 12, 706: 12, 733: 12, 701: 12, 691: 12, 698: 12, 386: 12, 702: 12, 739: 12, 683: 12, 695: 12, 605: 12, 689: 12, 703: 12, 664: 12, 685: 12, 680: 12, 1517: 12, 704: 12, 708: 12, 693: 12, 700: 12, 722: 12, 676: 12, 679: 12, 681: 12, 688: 11, 713: 11, 796: 11, 757: 11, 890: 11, 730: 11, 719: 11, 709: 11, 749: 11, 732: 11, 756: 11, 743: 11, 734: 11, 715: 11, 724: 11, 336: 11, 718: 11, 866: 11, 737: 11, 745: 11, 750: 11, 741: 11, 716: 11, 721: 11, 655: 11, 753: 11, 731: 11, 710: 11, 677: 11, 748: 11, 711: 11, 738: 11, 627: 11, 587: 11, 740: 11, 736: 11, 717: 11, 687: 11, 728: 11, 720: 11, 735: 11, 752: 11, 725: 11, 659: 11, 744: 11, 746: 11, 714: 11, 794: 10, 787: 10, 760: 10, 755: 10, 777: 10, 793: 10, 781: 10, 773: 10, 775: 10, 754: 10, 765: 10, 770: 10, 960: 10, 784: 10, 798: 10, 759: 10, 763: 10, 788: 10, 772: 10, 782: 10, 780: 10, 1318: 10, 774: 10, 790: 10, 771: 10, 764: 10, 742: 10, 785: 10, 800: 10, 768: 10, 776: 10, 792: 10, 799: 10, 761: 10, 767: 10, 830: 10, 843: 10, 779: 10, 789: 10, 795: 10, 723: 10, 786: 10, 822: 10, 762: 10, 747: 10, 663: 10, 769: 10, 656: 10, 791: 10, 783: 10, 778: 10, 766: 10, 758: 10, 862: 9, 859: 9, 846: 9, 1149: 9, 2646: 9, 729: 9, 861: 9, 851: 9, 842: 9, 826: 9, 819: 9, 804: 9, 726: 9, 801: 9, 833: 9, 806: 9, 835: 9, 849: 9, 2719: 9, 847: 9, 817: 9, 818: 9, 805: 9, 814: 9, 837: 9, 810: 9, 854: 9, 797: 9, 840: 9, 865: 9, 838: 9, 824: 9, 864: 9, 836: 9, 831: 9, 821: 9, 827: 9, 863: 9, 815: 9, 850: 9, 834: 9, 803: 9, 816: 9, 839: 9, 852: 9, 809: 9, 813: 9, 844: 9, 860: 9, 1296: 9, 825: 9, 858: 9, 853: 9, 855: 9, 857: 9, 808: 9, 841: 9, 820: 9, 807: 9, 848: 9, 828: 9, 856: 9, 845: 9, 812: 9, 894: 8, 876: 8, 906: 8, 882: 8, 891: 8, 883: 8, 829: 8, 965: 8, 900: 8, 886: 8, 915: 8, 879: 8, 887: 8, 910: 8, 905: 8, 904: 8, 903: 8, 914: 8, 885: 8, 694: 8, 902: 8, 898: 8, 871: 8, 897: 8, 874: 8, 907: 8, 811: 8, 692: 8, 878: 8, 870: 8, 877: 8, 916: 8, 917: 8, 908: 8, 880: 8, 867: 8, 869: 8, 832: 8, 896: 8, 913: 8, 872: 8, 889: 8, 802: 8, 912: 8, 911: 8, 893: 8, 899: 8, 901: 8, 875: 8, 909: 8, 895: 8, 868: 8, 873: 8, 969: 7, 981: 7, 1000: 7, 985: 7, 980: 7, 979: 7, 987: 7, 956: 7, 950: 7, 919: 7, 934: 7, 995: 7, 977: 7, 966: 7, 924: 7, 942: 7, 994: 7, 939: 7, 1037: 7, 936: 7, 989: 7, 971: 7, 948: 7, 921: 7, 997: 7, 983: 7, 992: 7, 955: 7, 954: 7, 941: 7, 963: 7, 988: 7, 940: 7, 1062: 7, 958: 7, 976: 7, 991: 7, 937: 7, 964: 7, 999: 7, 961: 7, 943: 7, 978: 7, 926: 7, 996: 7, 982: 7, 945: 7, 959: 7, 1294: 7, 1042: 7, 947: 7, 2691: 7, 1145: 7, 993: 7, 986: 7, 984: 7, 973: 7, 975: 7, 957: 7, 927: 7, 946: 7, 925: 7, 932: 7, 929: 7, 970: 7, 974: 7, 930: 7, 990: 7, 944: 7, 968: 7, 952: 7, 953: 7, 967: 7, 918: 7, 998: 7, 951: 7, 923: 7, 920: 7, 962: 7, 928: 7, 972: 7, 931: 7, 933: 7, 707: 7, 922: 7, 935: 7, 1099: 6, 1061: 6, 1016: 6, 1013: 6, 1079: 6, 1041: 6, 1015: 6, 1039: 6, 1058: 6, 1091: 6, 1093: 6, 1089: 6, 1007: 6, 1067: 6, 1086: 6, 1049: 6, 1022: 6, 1046: 6, 1082: 6, 1165: 6, 1031: 6, 1030: 6, 1009: 6, 1036: 6, 1072: 6, 1059: 6, 1088: 6, 1506: 6, 1080: 6, 1026: 6, 1027: 6, 1300: 6, 1032: 6, 1017: 6, 1052: 6, 1076: 6, 1069: 6, 1092: 6, 1859: 6, 1006: 6, 1021: 6, 1051: 6, 1043: 6, 1005: 6, 1085: 6, 1068: 6, 1040: 6, 1077: 6, 1074: 6, 1012: 6, 1004: 6, 1063: 6, 1033: 6, 1087: 6, 1014: 6, 1010: 6, 1035: 6, 1008: 6, 938: 6, 881: 6, 1055: 6, 1098: 6, 1066: 6, 1038: 6, 1020: 6, 1048: 6, 1053: 6, 949: 6, 1104: 6, 1095: 6, 1544: 6, 1073: 6, 1029: 6, 1065: 6, 1054: 6, 1075: 6, 1060: 6, 1160: 6, 1056: 6, 1081: 6, 1023: 6, 1001: 6, 1003: 6, 1011: 6, 1064: 6, 1047: 6, 1025: 6, 1002: 6, 1071: 6, 1028: 6, 1097: 6, 1094: 6, 1103: 6, 1100: 6, 1090: 6, 1024: 6, 1084: 6, 1045: 6, 1018: 6, 1019: 6, 1057: 6, 1078: 6, 1083: 6, 1102: 6, 1070: 6, 1105: 6, 1050: 6, 1096: 6, 1101: 6, 1034: 6, 1197: 5, 1157: 5, 1189: 5, 1142: 5, 1107: 5, 1117: 5, 1222: 5, 1161: 5, 1154: 5, 1233: 5, 1190: 5, 1196: 5, 1188: 5, 1129: 5, 1138: 5, 1201: 5, 1231: 5, 1187: 5, 1213: 5, 1216: 5, 1109: 5, 892: 5, 1163: 5, 1235: 5, 1218: 5, 1143: 5, 1173: 5, 1112: 5, 1193: 5, 1141: 5, 1183: 5, 1116: 5, 1044: 5, 1221: 5, 1131: 5, 1106: 5, 1146: 5, 1185: 5, 1181: 5, 1153: 5, 1204: 5, 1169: 5, 1171: 5, 1206: 5, 1194: 5, 1139: 5, 1135: 5, 1234: 5, 1207: 5, 1110: 5, 1224: 5, 1167: 5, 1229: 5, 1209: 5, 1227: 5, 1191: 5, 1215: 5, 1199: 5, 1289: 5, 1132: 5, 1137: 5, 1126: 5, 1210: 5, 1230: 5, 1219: 5, 1164: 5, 1214: 5, 1152: 5, 1128: 5, 1119: 5, 823: 5, 1220: 5, 1111: 5, 1156: 5, 1198: 5, 1130: 5, 1144: 5, 1225: 5, 1123: 5, 1205: 5, 1223: 5, 1148: 5, 1203: 5, 1158: 5, 1151: 5, 1121: 5, 1136: 5, 1208: 5, 1282: 5, 1192: 5, 1200: 5, 1316: 5, 1228: 5, 1155: 5, 1232: 5, 1180: 5, 1226: 5, 1212: 5, 1186: 5, 1182: 5, 1147: 5, 1168: 5, 1115: 5, 1122: 5, 1217: 5, 1175: 5, 1118: 5, 1202: 5, 1179: 5, 1134: 5, 1113: 5, 1127: 5, 1178: 5, 1108: 5, 1120: 5, 1172: 5, 1211: 5, 1114: 5, 1170: 5, 1124: 5, 1162: 5, 1177: 5, 1184: 5, 1195: 5, 1176: 5, 1150: 5, 1140: 5, 1125: 5, 1133: 5, 1345: 4, 1347: 4, 1257: 4, 1385: 4, 1166: 4, 1415: 4, 1413: 4, 1263: 4, 1360: 4, 1361: 4, 1338: 4, 1279: 4, 1305: 4, 1359: 4, 1236: 4, 1292: 4, 1416: 4, 1352: 4, 1426: 4, 1357: 4, 2838: 4, 1283: 4, 1244: 4, 1291: 4, 1405: 4, 1336: 4, 1275: 4, 1254: 4, 1328: 4, 1395: 4, 1421: 4, 1322: 4, 1349: 4, 1273: 4, 1433: 4, 1356: 4, 1379: 4, 1374: 4, 1353: 4, 1267: 4, 1530: 4, 1414: 4, 1430: 4, 1241: 4, 1358: 4, 1365: 4, 1326: 4, 1274: 4, 1420: 4, 1370: 4, 1249: 4, 1369: 4, 1301: 4, 1377: 4, 1252: 4, 1311: 4, 1330: 4, 1390: 4, 1240: 4, 1276: 4, 1334: 4, 1315: 4, 1398: 4, 1341: 4, 1302: 4, 1337: 4, 1471: 4, 1335: 4, 1402: 4, 1346: 4, 1339: 4, 1321: 4, 1366: 4, 1310: 4, 1271: 4, 1391: 4, 1306: 4, 1272: 4, 1412: 4, 1285: 4, 1384: 4, 1362: 4, 1247: 4, 1428: 4, 1409: 4, 1278: 4, 1364: 4, 1367: 4, 1380: 4, 1406: 4, 1383: 4, 1319: 4, 1394: 4, 1389: 4, 888: 4, 1256: 4, 1355: 4, 1297: 4, 1327: 4, 1264: 4, 1258: 4, 1419: 4, 1363: 4, 1262: 4, 1287: 4, 1324: 4, 1246: 4, 1309: 4, 1303: 4, 1411: 4, 1408: 4, 1983: 4, 1333: 4, 1174: 4, 1354: 4, 1270: 4, 1418: 4, 1404: 4, 1245: 4, 1434: 4, 1427: 4, 1410: 4, 1381: 4, 1314: 4, 1261: 4, 1368: 4, 1248: 4, 1407: 4, 1371: 4, 1422: 4, 1268: 4, 1432: 4, 1323: 4, 1295: 4, 1503: 4, 1299: 4, 1417: 4, 1393: 4, 1400: 4, 1265: 4, 1238: 4, 1424: 4, 1312: 4, 1423: 4, 1286: 4, 1331: 4, 1320: 4, 1242: 4, 1325: 4, 1375: 4, 1340: 4, 1401: 4, 2549: 4, 1259: 4, 1266: 4, 1392: 4, 1429: 4, 1308: 4, 1425: 4, 1250: 4, 1399: 4, 1387: 4, 1260: 4, 1281: 4, 1372: 4, 1342: 4, 1382: 4, 1280: 4, 1348: 4, 1403: 4, 1284: 4, 1351: 4, 1307: 4, 1386: 4, 1397: 4, 1269: 4, 1255: 4, 1243: 4, 1376: 4, 1332: 4, 1329: 4, 1293: 4, 1317: 4, 1298: 4, 1277: 4, 1344: 4, 1290: 4, 1388: 4, 1373: 4, 1313: 4, 1251: 4, 1253: 4, 1378: 4, 1304: 4, 1396: 4, 1239: 4, 1237: 4, 1431: 4, 1288: 4, 1662: 3, 1558: 3, 1629: 3, 1442: 3, 1461: 3, 1620: 3, 1440: 3, 1636: 3, 1441: 3, 1491: 3, 1608: 3, 1563: 3, 1626: 3, 1646: 3, 1607: 3, 1534: 3, 1641: 3, 1508: 3, 1671: 3, 1580: 3, 1603: 3, 1681: 3, 1513: 3, 1632: 3, 1500: 3, 1497: 3, 1501: 3, 1599: 3, 1658: 3, 1568: 3, 1639: 3, 1455: 3, 1721: 3, 1550: 3, 1611: 3, 1574: 3, 1435: 3, 1487: 3, 1614: 3, 1439: 3, 1587: 3, 1638: 3, 1666: 3, 1586: 3, 1479: 3, 1524: 3, 1619: 3, 1469: 3, 1573: 3, 1511: 3, 1674: 3, 1589: 3, 1472: 3, 1570: 3, 1633: 3, 1474: 3, 1645: 3, 1436: 3, 1708: 3, 1647: 3, 1463: 3, 1540: 3, 1450: 3, 1699: 3, 1644: 3, 1528: 3, 1579: 3, 1668: 3, 1465: 3, 1564: 3, 1686: 3, 1444: 3, 1562: 3, 1661: 3, 1543: 3, 1692: 3, 1596: 3, 1578: 3, 1687: 3, 1547: 3, 1539: 3, 1680: 3, 1482: 3, 1631: 3, 1484: 3, 1598: 3, 1648: 3, 1457: 3, 1630: 3, 1556: 3, 1610: 3, 1591: 3, 1702: 3, 1499: 3, 1697: 3, 1665: 3, 1557: 3, 1536: 3, 1458: 3, 1716: 3, 1507: 3, 1705: 3, 1490: 3, 1701: 3, 1679: 3, 1468: 3, 1447: 3, 1476: 3, 1473: 3, 1488: 3, 1481: 3, 1529: 3, 1567: 3, 1670: 3, 1512: 3, 1695: 3, 1624: 3, 1555: 3, 1466: 3, 1159: 3, 1592: 3, 1703: 3, 1445: 3, 1453: 3, 1675: 3, 1905: 3, 1717: 3, 1566: 3, 1495: 3, 1691: 3, 1684: 3, 1485: 3, 1535: 3, 1597: 3, 1549: 3, 1669: 3, 1656: 3, 1582: 3, 1600: 3, 1635: 3, 1548: 3, 1650: 3, 1722: 3, 1609: 3, 1515: 3, 1685: 3, 1498: 3, 1709: 3, 1565: 3, 1531: 3, 1714: 3, 1710: 3, 1542: 3, 1551: 3, 1577: 3, 1652: 3, 1437: 3, 1523: 3, 1682: 3, 1561: 3, 1443: 3, 1976: 3, 1553: 3, 1649: 3, 1527: 3, 1581: 3, 1493: 3, 1651: 3, 1637: 3, 1569: 3, 1634: 3, 1622: 3, 1615: 3, 1659: 3, 1700: 3, 1605: 3, 1657: 3, 1621: 3, 1560: 3, 1698: 3, 1595: 3, 1554: 3, 1643: 3, 1590: 3, 1617: 3, 1655: 3, 1677: 3, 1688: 3, 1533: 3, 1723: 3, 1673: 3, 1454: 3, 1477: 3, 1448: 3, 1464: 3, 1525: 3, 1504: 3, 1505: 3, 1552: 3, 1456: 3, 1583: 3, 1718: 3, 1676: 3, 1694: 3, 1713: 3, 1683: 3, 1521: 3, 2186: 3, 1520: 3, 1480: 3, 1519: 3, 1720: 3, 1486: 3, 1712: 3, 1711: 3, 1640: 3, 1470: 3, 1526: 3, 1690: 3, 1585: 3, 1594: 3, 1604: 3, 1575: 3, 1642: 3, 1654: 3, 1537: 3, 1572: 3, 1672: 3, 1584: 3, 1704: 3, 1618: 3, 1576: 3, 1545: 3, 1538: 3, 1613: 3, 1715: 3, 1541: 3, 1467: 3, 1653: 3, 1602: 3, 1678: 3, 1559: 3, 1514: 3, 1492: 3, 1724: 3, 1475: 3, 1518: 3, 1627: 3, 1509: 3, 1452: 3, 1693: 3, 1667: 3, 1664: 3, 1628: 3, 1496: 3, 2289: 3, 1660: 3, 1719: 3, 1510: 3, 1460: 3, 1446: 3, 1593: 3, 1707: 3, 1462: 3, 1546: 3, 1689: 3, 1706: 3, 1663: 3, 1625: 3, 1616: 3, 1612: 3, 1588: 3, 1483: 3, 2183: 3, 1696: 3, 1601: 3, 1489: 3, 1438: 3, 1451: 3, 1571: 3, 1532: 3, 1623: 3, 1478: 3, 1522: 3, 1494: 3, 1459: 3, 1516: 3, 1606: 3, 1449: 3, 2151: 2, 2130: 2, 2021: 2, 2216: 2, 2170: 2, 1903: 2, 2214: 2, 1878: 2, 2003: 2, 2106: 2, 1993: 2, 1940: 2, 1990: 2, 1921: 2, 1729: 2, 1911: 2, 2017: 2, 2101: 2, 1971: 2, 2215: 2, 1957: 2, 1769: 2, 1847: 2, 1931: 2, 1725: 2, 2050: 2, 2018: 2, 1793: 2, 1763: 2, 1908: 2, 2066: 2, 2027: 2, 1820: 2, 1817: 2, 2019: 2, 1909: 2, 2070: 2, 2029: 2, 2134: 2, 1958: 2, 2136: 2, 2155: 2, 1901: 2, 2012: 2, 2087: 2, 2006: 2, 1750: 2, 2034: 2, 2165: 2, 1902: 2, 2209: 2, 1754: 2, 1745: 2, 1809: 2, 2098: 2, 1915: 2, 2125: 2, 2208: 2, 2104: 2, 1848: 2, 1955: 2, 1934: 2, 2188: 2, 2169: 2, 2205: 2, 1739: 2, 2077: 2, 1872: 2, 2204: 2, 2041: 2, 2088: 2, 2068: 2, 1947: 2, 1825: 2, 2111: 2, 1838: 2, 2190: 2, 2108: 2, 1738: 2, 2069: 2, 2085: 2, 2149: 2, 1979: 2, 1816: 2, 2043: 2, 1785: 2, 2081: 2, 1890: 2, 2207: 2, 2191: 2, 1880: 2, 2046: 2, 2025: 2, 1771: 2, 3001: 2, 1937: 2, 1873: 2, 1994: 2, 1865: 2, 2080: 2, 1819: 2, 2166: 2, 2154: 2, 2024: 2, 1967: 2, 1851: 2, 2063: 2, 1779: 2, 1796: 2, 1728: 2, 2054: 2, 2039: 2, 2145: 2, 1974: 2, 1944: 2, 1782: 2, 1753: 2, 1780: 2, 2032: 2, 2152: 2, 2093: 2, 1747: 2, 1977: 2, 2161: 2, 2107: 2, 1861: 2, 1884: 2, 2092: 2, 2014: 2, 2040: 2, 1818: 2, 2028: 2, 1799: 2, 1836: 2, 1966: 2, 1986: 2, 1834: 2, 1995: 2, 2049: 2, 2203: 2, 1869: 2, 1740: 2, 1950: 2, 1887: 2, 2047: 2, 2094: 2, 2182: 2, 1882: 2, 1886: 2, 2083: 2, 2174: 2, 2146: 2, 1946: 2, 1759: 2, 1849: 2, 1787: 2, 1798: 2, 1772: 2, 2206: 2, 2171: 2, 1767: 2, 1898: 2, 2086: 2, 2035: 2, 1777: 2, 1925: 2, 1735: 2, 2095: 2, 2114: 2, 1852: 2, 2057: 2, 2194: 2, 1896: 2, 1970: 2, 2162: 2, 2124: 2, 2211: 2, 2033: 2, 2091: 2, 1737: 2, 1814: 2, 1815: 2, 1862: 2, 1802: 2, 1996: 2, 2201: 2, 2159: 2, 1764: 2, 1781: 2, 1775: 2, 1871: 2, 1943: 2, 1885: 2, 1951: 2, 1755: 2, 1968: 2, 1981: 2, 1758: 2, 1795: 2, 2023: 2, 1841: 2, 1828: 2, 1922: 2, 1897: 2, 2062: 2, 1866: 2, 1972: 2, 1877: 2, 1757: 2, 1792: 2, 1919: 2, 2158: 2, 1727: 2, 2002: 2, 2167: 2, 1936: 2, 2212: 2, 2031: 2, 1924: 2, 1912: 2, 2635: 2, 1788: 2, 2059: 2, 1823: 2, 1978: 2, 1982: 2, 1956: 2, 1733: 2, 2005: 2, 2099: 2, 1945: 2, 1895: 2, 1804: 2, 2138: 2, 2009: 2, 2096: 2, 3086: 2, 1918: 2, 2100: 2, 2153: 2, 1923: 2, 2184: 2, 1736: 2, 2026: 2, 1991: 2, 1783: 2, 1742: 2, 1876: 2, 1881: 2, 2156: 2, 2030: 2, 1813: 2, 1864: 2, 1835: 2, 1987: 2, 1744: 2, 1948: 2, 1842: 2, 1746: 2, 1773: 2, 1868: 2, 1756: 2, 2067: 2, 1762: 2, 1797: 2, 1928: 2, 1906: 2, 2022: 2, 1790: 2, 2117: 2, 1766: 2, 1913: 2, 1831: 2, 1810: 2, 1941: 2, 2118: 2, 2650: 2, 2102: 2, 1999: 2, 2148: 2, 2051: 2, 2089: 2, 2121: 2, 1812: 2, 1904: 2, 2160: 2, 2150: 2, 1875: 2, 1857: 2, 2037: 2, 2001: 2, 1926: 2, 1920: 2, 1914: 2, 2038: 2, 2126: 2, 1726: 2, 1891: 2, 2036: 2, 1778: 2, 2053: 2, 2075: 2, 1870: 2, 2129: 2, 1867: 2, 2142: 2, 1760: 2, 2163: 2, 2113: 2, 1855: 2, 1811: 2, 1749: 2, 1965: 2, 2115: 2, 1883: 2, 1939: 2, 1832: 2, 1863: 2, 2110: 2, 2122: 2, 1830: 2, 2116: 2, 2127: 2, 1992: 2, 1962: 2, 2056: 2, 1975: 2, 1961: 2, 1789: 2, 2135: 2, 2065: 2, 2139: 2, 2060: 2, 2140: 2, 2048: 2, 1845: 2, 1932: 2, 2044: 2, 1980: 2, 2123: 2, 2192: 2, 2119: 2, 2132: 2, 1942: 2, 2177: 2, 2105: 2, 2213: 2, 2137: 2, 1751: 2, 1952: 2, 1502: 2, 1784: 2, 1853: 2, 2178: 2, 1858: 2, 1997: 2, 2197: 2, 1960: 2, 2112: 2, 1929: 2, 2084: 2, 2120: 2, 1854: 2, 2179: 2, 1998: 2, 2193: 2, 1808: 2, 2090: 2, 2195: 2, 2004: 2, 1935: 2, 1826: 2, 1988: 2, 2010: 2, 1774: 2, 1734: 2, 2217: 2, 1900: 2, 1860: 2, 1807: 2, 2189: 2, 2082: 2, 2007: 2, 1824: 2, 2079: 2, 2198: 2, 1765: 2, 2133: 2, 2131: 2, 2196: 2, 1917: 2, 2103: 2, 2015: 2, 1888: 2, 1821: 2, 2052: 2, 2202: 2, 2000: 2, 1844: 2, 1839: 2, 2168: 2, 1910: 2, 2175: 2, 1984: 2, 1803: 2, 1949: 2, 1776: 2, 1741: 2, 2157: 2, 2172: 2, 1892: 2, 2173: 2, 1959: 2, 2071: 2, 1791: 2, 1933: 2, 2143: 2, 1916: 2, 1833: 2, 1879: 2, 1938: 2, 2147: 2, 1973: 2, 1846: 2, 2016: 2, 1964: 2, 1837: 2, 1743: 2, 2164: 2, 1829: 2, 2076: 2, 1856: 2, 1893: 2, 2210: 2, 1850: 2, 1731: 2, 2042: 2, 1800: 2, 2109: 2, 2180: 2, 1768: 2, 1894: 2, 1843: 2, 1827: 2, 2078: 2, 2074: 2, 1840: 2, 1969: 2, 1730: 2, 2073: 2, 2185: 2, 2187: 2, 1806: 2, 1805: 2, 2061: 2, 1907: 2, 2144: 2, 1963: 2, 2013: 2, 1786: 2, 1954: 2, 2008: 2, 2181: 2, 1899: 2, 2020: 2, 2045: 2, 1889: 2, 2200: 2, 1927: 2, 1794: 2, 2058: 2, 1930: 2, 1953: 2, 2176: 2, 2055: 2, 2199: 2, 2064: 2, 1801: 2, 1989: 2, 2141: 2, 2097: 2, 1748: 2, 1761: 2, 2128: 2, 1985: 2, 2072: 2, 1822: 2, 1752: 2, 1874: 2, 2011: 2, 1770: 2, 1732: 2, 3005: 1, 2642: 1, 3027: 1, 3133: 1, 2935: 1, 3216: 1, 2290: 1, 2887: 1, 3225: 1, 3017: 1, 2852: 1, 3028: 1, 2750: 1, 2892: 1, 2319: 1, 2364: 1, 2525: 1, 2818: 1, 2535: 1, 2446: 1, 2791: 1, 3114: 1, 2255: 1, 2963: 1, 2261: 1, 2470: 1, 2551: 1, 2924: 1, 2850: 1, 2895: 1, 2870: 1, 2557: 1, 3056: 1, 2558: 1, 3041: 1, 3081: 1, 2234: 1, 2917: 1, 2346: 1, 2380: 1, 3095: 1, 2700: 1, 2347: 1, 2675: 1, 2709: 1, 3132: 1, 2338: 1, 2904: 1, 2848: 1, 2662: 1, 3009: 1, 2317: 1, 2708: 1, 2331: 1, 2257: 1, 2536: 1, 3053: 1, 2613: 1, 2880: 1, 2286: 1, 2665: 1, 2219: 1, 2649: 1, 2627: 1, 2832: 1, 2433: 1, 2741: 1, 3128: 1, 2905: 1, 2955: 1, 2498: 1, 2360: 1, 2745: 1, 2660: 1, 2789: 1, 2352: 1, 3077: 1, 2958: 1, 2373: 1, 2505: 1, 2843: 1, 2712: 1, 2835: 1, 2421: 1, 3109: 1, 2417: 1, 2277: 1, 2946: 1, 2984: 1, 2981: 1, 2654: 1, 2270: 1, 2744: 1, 2440: 1, 2478: 1, 2499: 1, 2242: 1, 3019: 1, 2354: 1, 2885: 1, 2409: 1, 2840: 1, 2577: 1, 2385: 1, 2952: 1, 2966: 1, 2587: 1, 2473: 1, 3144: 1, 2785: 1, 2957: 1, 2356: 1, 2288: 1, 2293: 1, 2939: 1, 2313: 1, 2309: 1, 2938: 1, 2436: 1, 2504: 1, 3082: 1, 3113: 1, 2462: 1, 2877: 1, 2296: 1, 2503: 1, 2569: 1, 3162: 1, 3140: 1, 2882: 1, 2621: 1, 3222: 1, 2685: 1, 3072: 1, 2774: 1, 2794: 1, 2733: 1, 2561: 1, 2252: 1, 2777: 1, 3059: 1, 2399: 1, 2739: 1, 2813: 1, 2923: 1, 2586: 1, 2863: 1, 2326: 1, 2405: 1, 2655: 1, 2316: 1, 2529: 1, 2851: 1, 2466: 1, 2722: 1, 2869: 1, 2424: 1, 2721: 1, 3057: 1, 3018: 1, 2493: 1, 2418: 1, 2550: 1, 2771: 1, 2537: 1, 2423: 1, 3011: 1, 2507: 1, 2801: 1, 2305: 1, 3090: 1, 2372: 1, 2806: 1, 2861: 1, 2647: 1, 3062: 1, 2907: 1, 2936: 1, 2565: 1, 2886: 1, 3151: 1, 2366: 1, 2929: 1, 2307: 1, 2263: 1, 3138: 1, 2626: 1, 2699: 1, 3148: 1, 2469: 1, 2604: 1, 2541: 1, 2552: 1, 2970: 1, 2422: 1, 2386: 1, 2921: 1, 3199: 1, 3219: 1, 2928: 1, 3060: 1, 2383: 1, 2365: 1, 2465: 1, 2931: 1, 2355: 1, 2431: 1, 3065: 1, 2273: 1, 2574: 1, 2306: 1, 2445: 1, 2348: 1, 2408: 1, 2489: 1, 2278: 1, 2342: 1, 2387: 1, 2845: 1, 2866: 1, 3023: 1, 2594: 1, 2841: 1, 2839: 1, 2329: 1, 2237: 1, 2510: 1, 2859: 1, 2463: 1, 3015: 1, 3210: 1, 2641: 1, 2807: 1, 2434: 1, 3012: 1, 2430: 1, 2873: 1, 3101: 1, 2906: 1, 2514: 1, 2511: 1, 2967: 1, 2962: 1, 2308: 1, 3003: 1, 3184: 1, 2287: 1, 2919: 1, 2276: 1, 2754: 1, 2763: 1, 2225: 1, 2738: 1, 2716: 1, 2705: 1, 2749: 1, 2377: 1, 2369: 1, 2471: 1, 3087: 1, 2706: 1, 3058: 1, 2971: 1, 2497: 1, 2226: 1, 2320: 1, 2516: 1, 3033: 1, 2501: 1, 2227: 1, 3150: 1, 2374: 1, 2658: 1, 2827: 1, 2757: 1, 2605: 1, 2740: 1, 2618: 1, 2396: 1, 3122: 1, 2458: 1, 2796: 1, 2249: 1, 2485: 1, 3195: 1, 3078: 1, 2556: 1, 2487: 1, 2819: 1, 2467: 1, 2815: 1, 2853: 1, 2920: 1, 2500: 1, 2817: 1, 2752: 1, 2240: 1, 3220: 1, 2628: 1, 2652: 1, 3105: 1, 2831: 1, 2400: 1, 2325: 1, 2950: 1, 2922: 1, 2384: 1, 3121: 1, 2714: 1, 2397: 1, 2973: 1, 2793: 1, 2600: 1, 2909: 1, 2759: 1, 2232: 1, 2674: 1, 2916: 1, 3103: 1, 2889: 1, 2576: 1, 2810: 1, 3037: 1, 3160: 1, 3045: 1, 2580: 1, 2881: 1, 2506: 1, 3064: 1, 2942: 1, 2947: 1, 2572: 1, 3026: 1, 2910: 1, 3131: 1, 2495: 1, 3170: 1, 2728: 1, 2403: 1, 2398: 1, 2449: 1, 2564: 1, 3047: 1, 2566: 1, 2748: 1, 2314: 1, 3021: 1, 2747: 1, 2911: 1, 3004: 1, 2998: 1, 2518: 1, 2782: 1, 2402: 1, 2993: 1, 2484: 1, 2701: 1, 2285: 1, 2951: 1, 2693: 1, 2814: 1, 2539: 1, 2644: 1, 2812: 1, 2720: 1, 2762: 1, 3165: 1, 2742: 1, 2964: 1, 2717: 1, 3127: 1, 2592: 1, 2244: 1, 2333: 1, 2624: 1, 3217: 1, 2411: 1, 2737: 1, 2370: 1, 2428: 1, 3000: 1, 2661: 1, 2702: 1, 2548: 1, 3035: 1, 2615: 1, 2311: 1, 2230: 1, 2540: 1, 2808: 1, 2275: 1, 2692: 1, 2336: 1, 2943: 1, 2823: 1, 3123: 1, 2459: 1, 2461: 1, 3014: 1, 2349: 1, 2361: 1, 2476: 1, 2479: 1, 2323: 1, 2250: 1, 2406: 1, 2755: 1, 2224: 1, 2988: 1, 2638: 1, 3084: 1, 2657: 1, 2494: 1, 2256: 1, 3126: 1, 3089: 1, 2639: 1, 2781: 1, 2264: 1, 2949: 1, 2251: 1, 2520: 1, 2864: 1, 2359: 1, 3050: 1, 3193: 1, 3073: 1, 2753: 1, 2590: 1, 2731: 1, 2617: 1, 3141: 1, 2994: 1, 3209: 1, 2776: 1, 2694: 1, 3069: 1, 2934: 1, 2767: 1, 3115: 1, 2878: 1, 3158: 1, 2299: 1, 2671: 1, 2324: 1, 2221: 1, 2724: 1, 2533: 1, 3093: 1, 2824: 1, 2233: 1, 2743: 1, 2358: 1, 3167: 1, 3025: 1, 3102: 1, 2528: 1, 2758: 1, 2990: 1, 2220: 1, 2723: 1, 3143: 1, 2732: 1, 2630: 1, 2821: 1, 2444: 1, 2972: 1, 2756: 1, 2414: 1, 2933: 1, 2640: 1, 2265: 1, 2412: 1, 2666: 1, 2780: 1, 2683: 1, 2940: 1, 2612: 1, 2849: 1, 2884: 1, 2891: 1, 2588: 1, 2718: 1, 2932: 1, 3183: 1, 2488: 1, 2690: 1, 3157: 1, 3042: 1, 2522: 1, 2625: 1, 3206: 1, 2996: 1, 2805: 1, 2486: 1, 2512: 1, 2382: 1, 2260: 1, 3067: 1, 2670: 1, 2775: 1, 3134: 1, 3107: 1, 3117: 1, 2846: 1, 2975: 1, 2854: 1, 3188: 1, 2900: 1, 3039: 1, 2318: 1, 2482: 1, 2294: 1, 3202: 1, 2648: 1, 2404: 1, 3088: 1, 2280: 1, 2442: 1, 2350: 1, 3197: 1, 2292: 1, 3190: 1, 3194: 1, 2591: 1, 3076: 1, 2284: 1, 2828: 1, 2941: 1, 2607: 1, 3196: 1, 3201: 1, 2269: 1, 3215: 1, 2715: 1, 3230: 1, 2345: 1, 2593: 1, 3189: 1, 2820: 1, 2599: 1, 2407: 1, 2450: 1, 2786: 1, 2945: 1, 2663: 1, 2448: 1, 2262: 1, 2711: 1, 2987: 1, 3106: 1, 2779: 1, 3020: 1, 2836: 1, 3038: 1, 2803: 1, 3164: 1, 2833: 1, 3211: 1, 2764: 1, 2944: 1, 3079: 1, 2544: 1, 2480: 1, 3177: 1, 2867: 1, 2653: 1, 2898: 1, 2496: 1, 2925: 1, 2546: 1, 3061: 1, 2857: 1, 3030: 1, 2391: 1, 3186: 1, 2427: 1, 2883: 1, 2521: 1, 3178: 1, 2937: 1, 3181: 1, 2401: 1, 2268: 1, 2378: 1, 2254: 1, 2816: 1, 2847: 1, 2267: 1, 2729: 1, 2811: 1, 2523: 1, 2379: 1, 3100: 1, 2321: 1, 2367: 1, 2830: 1, 3036: 1, 2229: 1, 2410: 1, 2893: 1, 2259: 1, 3120: 1, 2926: 1, 3208: 1, 2266: 1, 2571: 1, 2464: 1, 3227: 1, 2579: 1, 3074: 1, 2698: 1, 2862: 1, 2888: 1, 3071: 1, 2238: 1, 2452: 1, 2914: 1, 2676: 1, 2736: 1, 3136: 1, 3161: 1, 2426: 1, 2381: 1, 2978: 1, 3214: 1, 2339: 1, 2979: 1, 2871: 1, 2390: 1, 3212: 1, 2295: 1, 2956: 1, 3099: 1, 2532: 1, 2310: 1, 2228: 1, 2447: 1, 2792: 1, 2606: 1, 2800: 1, 3149: 1, 2651: 1, 2620: 1, 3192: 1, 3032: 1, 2623: 1, 2961: 1, 2271: 1, 2332: 1, 3191: 1, 2509: 1, 2375: 1, 2965: 1, 2443: 1, 2608: 1, 3085: 1, 3024: 1, 3221: 1, 2784: 1, 2637: 1, 2991: 1, 2304: 1, 3168: 1, 2553: 1, 2425: 1, 2983: 1, 3155: 1, 2530: 1, 3063: 1, 2492: 1, 2872: 1, 3096: 1, 3108: 1, 3008: 1, 2856: 1, 2344: 1, 2668: 1, 2735: 1, 2583: 1, 3228: 1, 2959: 1, 3226: 1, 2231: 1, 2578: 1, 2322: 1, 2222: 1, 2562: 1, 2876: 1, 2513: 1, 2896: 1, 2656: 1, 2524: 1, 3098: 1, 2531: 1, 2809: 1, 2751: 1, 2420: 1, 2899: 1, 2704: 1, 2327: 1, 2778: 1, 2730: 1, 2376: 1, 2438: 1, 2968: 1, 2766: 1, 2874: 1, 2842: 1, 2353: 1, 2517: 1, 3029: 1, 2279: 1, 2437: 1, 2388: 1, 2223: 1, 2960: 1, 2684: 1, 3007: 1, 2788: 1, 2460: 1, 2340: 1, 2858: 1, 2582: 1, 2218: 1, 2772: 1, 3119: 1, 2351: 1, 2902: 1, 2246: 1, 2614: 1, 2953: 1, 2547: 1, 2643: 1, 2707: 1, 2545: 1, 2601: 1, 2570: 1, 2515: 1, 3111: 1, 2301: 1, 2395: 1, 2997: 1, 3044: 1, 2491: 1, 2629: 1, 2703: 1, 2903: 1, 3224: 1, 2236: 1, 2999: 1, 3013: 1, 2918: 1, 2542: 1, 2844: 1, 2559: 1, 2328: 1, 2253: 1, 2335: 1, 2609: 1, 2300: 1, 3171: 1, 3125: 1, 2343: 1, 2669: 1, 3040: 1, 2710: 1, 2508: 1, 2974: 1, 2897: 1, 3169: 1, 2680: 1, 2419: 1, 3135: 1, 3163: 1, 3066: 1, 2795: 1, 2555: 1, 3054: 1, 3166: 1, 2765: 1, 2860: 1, 2281: 1, 3092: 1, 3129: 1, 2713: 1, 2686: 1, 3204: 1, 2645: 1, 2534: 1, 2769: 1, 2603: 1, 2543: 1, 2597: 1, 2282: 1, 3075: 1, 2573: 1, 3174: 1, 2697: 1, 2677: 1, 2432: 1, 2357: 1, 2986: 1, 2633: 1, 2475: 1, 3002: 1, 3142: 1, 2526: 1, 2682: 1, 3180: 1, 2611: 1, 3159: 1, 2826: 1, 2389: 1, 3034: 1, 3080: 1, 2948: 1, 3118: 1, 2687: 1, 2454: 1, 2241: 1, 3097: 1, 2297: 1, 2258: 1, 3146: 1, 2451: 1, 3048: 1, 2927: 1, 2315: 1, 2527: 1, 2912: 1, 2595: 1, 3173: 1, 2954: 1, 2985: 1, 2768: 1, 2727: 1, 2362: 1, 3172: 1, 2474: 1, 2481: 1, 2363: 1, 2610: 1, 2439: 1, 2394: 1, 2456: 1, 2312: 1, 2673: 1, 3022: 1, 3152: 1, 2239: 1, 2596: 1, 3051: 1, 2770: 1, 2483: 1, 2868: 1, 2334: 1, 3175: 1, 3185: 1, 2894: 1, 2303: 1, 3083: 1, 3154: 1, 2468: 1, 3070: 1, 2283: 1, 2634: 1, 2341: 1, 2554: 1, 2581: 1, 2992: 1, 3046: 1, 3207: 1, 3203: 1, 2802: 1, 3200: 1, 2667: 1, 2337: 1, 2681: 1, 2798: 1, 3016: 1, 2725: 1, 2901: 1, 2688: 1, 2435: 1, 2455: 1, 3052: 1, 3147: 1, 2622: 1, 2392: 1, 2245: 1, 2865: 1, 2834: 1, 2760: 1, 2799: 1, 2560: 1, 3213: 1, 2274: 1, 3139: 1, 2616: 1, 2689: 1, 3198: 1, 2429: 1, 3223: 1, 2679: 1, 2977: 1, 2659: 1, 3179: 1, 3043: 1, 3130: 1, 2248: 1, 2619: 1, 2393: 1, 3182: 1, 2416: 1, 3205: 1, 2477: 1, 2589: 1, 2672: 1, 2490: 1, 3104: 1, 2415: 1, 2930: 1, 2441: 1, 2696: 1, 2995: 1, 3031: 1, 2584: 1, 2235: 1, 2913: 1, 2734: 1, 2908: 1, 2980: 1, 3116: 1, 2453: 1, 2982: 1, 2457: 1, 2330: 1, 2726: 1, 2568: 1, 2502: 1, 3055: 1, 2247: 1, 2631: 1, 3110: 1, 3068: 1, 2695: 1, 2472: 1, 3176: 1, 2567: 1, 2890: 1, 2678: 1, 2371: 1, 2825: 1, 3187: 1, 2746: 1, 2519: 1, 2298: 1, 2598: 1, 2976: 1, 3006: 1, 3091: 1, 2875: 1, 2632: 1, 2302: 1, 3218: 1, 2829: 1, 2368: 1, 2915: 1, 2413: 1, 2822: 1, 3049: 1, 2664: 1, 2602: 1, 3229: 1, 3094: 1, 2291: 1, 2797: 1, 2790: 1, 2837: 1, 3010: 1, 2575: 1, 2761: 1, 2563: 1, 2773: 1, 2243: 1, 3145: 1, 2879: 1, 3124: 1, 3153: 1, 2989: 1, 3156: 1, 2538: 1, 2272: 1, 2783: 1, 3137: 1, 3112: 1, 2855: 1, 2969: 1, 2804: 1, 2787: 1, 2585: 1, 2636: 1})\n"
     ]
    }
   ],
   "source": [
    "from collections import Counter\n",
    "print(Counter(model.labels_))"
   ]
  },
  {
   "cell_type": "code",
   "execution_count": 85,
   "metadata": {},
   "outputs": [
    {
     "data": {
      "text/plain": [
       "collections.Counter"
      ]
     },
     "execution_count": 85,
     "metadata": {},
     "output_type": "execute_result"
    }
   ],
   "source": [
    "c=Counter(model.labels_)\n",
    "type(c)"
   ]
  },
  {
   "cell_type": "code",
   "execution_count": 104,
   "metadata": {},
   "outputs": [
    {
     "name": "stdout",
     "output_type": "stream",
     "text": [
      "3231\n",
      "3231\n"
     ]
    }
   ],
   "source": [
    "print(len(c))\n",
    "print(len(clusters1[:,0]))"
   ]
  },
  {
   "cell_type": "code",
   "execution_count": 93,
   "metadata": {},
   "outputs": [
    {
     "data": {
      "text/plain": [
       "3363"
      ]
     },
     "execution_count": 93,
     "metadata": {},
     "output_type": "execute_result"
    }
   ],
   "source": [
    "c[3]"
   ]
  },
  {
   "cell_type": "code",
   "execution_count": 119,
   "metadata": {},
   "outputs": [
    {
     "name": "stdout",
     "output_type": "stream",
     "text": [
      "<class 'numpy.ndarray'>\n",
      "<class 'numpy.ndarray'>\n"
     ]
    }
   ],
   "source": [
    "print(type(clusters1[3,:]))\n",
    "print(type(np.array([c[3]])))"
   ]
  },
  {
   "cell_type": "code",
   "execution_count": 120,
   "metadata": {},
   "outputs": [
    {
     "data": {
      "text/plain": [
       "array([  41.87824378,  -87.62984336, 3363.        ])"
      ]
     },
     "execution_count": 120,
     "metadata": {},
     "output_type": "execute_result"
    }
   ],
   "source": [
    "np.hstack((clusters1[3,:], np.array([c[3]])))\n",
    "#np.array([c[3]])"
   ]
  },
  {
   "cell_type": "code",
   "execution_count": 130,
   "metadata": {},
   "outputs": [
    {
     "name": "stdout",
     "output_type": "stream",
     "text": [
      "[[   40.7177164    -73.99183542 12506.        ]\n",
      " [   33.44943805  -112.00213969  4692.        ]\n",
      " [   33.44638027  -111.90188756  3994.        ]\n",
      " ...\n",
      " [   41.61853175   -88.44556818    23.        ]\n",
      " [   39.2494686    -77.1821271     21.        ]\n",
      " [   38.65877915   -76.8856871     19.        ]]\n",
      "(592, 3)\n"
     ]
    }
   ],
   "source": [
    "clusters2=[]\n",
    "for i in range(len(c)):\n",
    "    if c[i]>15:\n",
    "        clusters2.append(np.hstack((clusters1[i,:], c[i])))\n",
    "clusters3=np.array(clusters2)\n",
    "print (np.array(clusters2))\n",
    "print (clusters3.shape)"
   ]
  },
  {
   "cell_type": "code",
   "execution_count": 131,
   "metadata": {},
   "outputs": [
    {
     "data": {
      "image/png": "[encoded data removed]",
      "text/plain": [
       "<Figure size 432x288 with 1 Axes>"
      ]
     },
     "metadata": {
      "needs_background": "light"
     },
     "output_type": "display_data"
    }
   ],
   "source": [
    "plt.scatter(clusters3[:,0], clusters3[:,1], c='blue')\n",
    "plt.scatter(office[:,0], office[:,1], c='red');"
   ]
  },
  {
   "cell_type": "code",
   "execution_count": 54,
   "metadata": {},
   "outputs": [
    {
     "name": "stdout",
     "output_type": "stream",
     "text": [
      "0\n",
      "1\n",
      "2\n",
      "3\n",
      "4\n",
      "5\n"
     ]
    }
   ],
   "source": [
    "for i in range(len(office)):\n",
    "    print(i)"
   ]
  },
  {
   "cell_type": "code",
   "execution_count": 170,
   "metadata": {},
   "outputs": [],
   "source": [
    "def distance (t1, t2):\n",
    "    return ((t1[0]-t2[0])**2+(t1[1]-t2[1])**2)"
   ]
  },
  {
   "cell_type": "code",
   "execution_count": 171,
   "metadata": {},
   "outputs": [
    {
     "name": "stdout",
     "output_type": "stream",
     "text": [
      "2001.8976523386616\n",
      "[-33.868457 151.205134]\n",
      "[-33.86063043 151.20477593  28.        ]\n",
      "6.138343547438518e-05\n",
      "6.138343547438518e-05\n"
     ]
    }
   ],
   "source": [
    "office_index=0\n",
    "cluster_index=0\n",
    "s=distance(office[0], clusters3[0])\n",
    "print(s)\n",
    "for i in range(len(office)):\n",
    "    for j in range(len(clusters3)):\n",
    "        if distance(office[i], clusters3[j])<s:\n",
    "            s=distance(office[i], clusters3[j])\n",
    "            office_index=i\n",
    "            cluster_index=j\n",
    "print (office[office_index])\n",
    "print (clusters3[cluster_index])\n",
    "print(distance(office[office_index], clusters3[cluster_index]))\n",
    "print(s)"
   ]
  },
  {
   "cell_type": "code",
   "execution_count": 129,
   "metadata": {},
   "outputs": [
    {
     "name": "stdout",
     "output_type": "stream",
     "text": [
      "[ 28.6404027  -81.34387592]\n"
     ]
    }
   ],
   "source": [
    "print(clusters[cluster_index])"
   ]
  },
  {
   "cell_type": "markdown",
   "metadata": {},
   "source": [
    "### Расстояния до различных офисов по номерам"
   ]
  },
  {
   "cell_type": "markdown",
   "metadata": {},
   "source": [
    "Офис 1:"
   ]
  },
  {
   "cell_type": "code",
   "execution_count": 169,
   "metadata": {},
   "outputs": [
    {
     "name": "stdout",
     "output_type": "stream",
     "text": [
      "[  55.74834952   37.62385042   44.           33.751277   -118.18874\n",
      "  498.86802425]\n",
      "[  52.5234051    13.4113999    39.           33.751277   -118.18874\n",
      "  766.10339385]\n",
      "[  25.2644444   55.3116667   33.          33.751277  -118.18874\n",
      "  536.8767316]\n",
      "[  41.00527      28.97696      23.           33.751277   -118.18874\n",
      "   75.41451726]\n",
      "[  32.05950188   34.78865671   23.           33.751277   -118.18874\n",
      "    3.93825973]\n",
      "[  55.68682618   12.58994255   17.           33.751277   -118.18874\n",
      "  928.97039325]\n",
      "[  60.16995389   24.93773012   16.           33.751277   -118.18874\n",
      "  775.62509711]\n",
      "[  50.1115118     8.6805059    16.           33.751277   -118.18874\n",
      "  896.20084626]\n"
     ]
    }
   ],
   "source": [
    "for i in range(len(clusters3)):\n",
    "    if distance(clusters3[i], office[0])<1000:\n",
    "        print(np.hstack((clusters3[i], office[0], distance(clusters3[i], office[0]))))"
   ]
  },
  {
   "cell_type": "code",
   "execution_count": 168,
   "metadata": {},
   "outputs": [
    {
     "name": "stdout",
     "output_type": "stream",
     "text": [
      "[   40.7177164    -73.99183542 12506.            33.751277\n",
      "  -118.18874    11657.1095518 ]\n",
      "6.966439397275067\n",
      "44.19690458010329\n",
      "48.531277875906206\n",
      "1953.3663744627554\n",
      "40.71771639727507   33.751277   -73.9918354198967   -118.18874\n",
      "[   40.7177164    -73.99183542 12506.        ]\n",
      "[  33.751277 -118.18874 ]\n",
      "11657.109551802407\n"
     ]
    }
   ],
   "source": [
    "print(np.hstack((clusters3[0], office[0], distance(clusters3[0], office[0]))))\n",
    "print (clusters3[0,0]-office[0,0])\n",
    "print (clusters3[0,1]-office[0,1])\n",
    "print ((clusters3[0,0]-office[0,0])**2)\n",
    "print ((clusters3[0,1]-office[0,1])**2)\n",
    "print (clusters3[0,0], ' ', office[0,0], ' ',clusters3[0,1], ' ', office[0,1])\n",
    "print (clusters3[0])\n",
    "print (office[0])\n",
    "print (distance (clusters3[0],office[0]))"
   ]
  },
  {
   "cell_type": "markdown",
   "metadata": {},
   "source": [
    "Офис 2:"
   ]
  },
  {
   "cell_type": "code",
   "execution_count": 146,
   "metadata": {},
   "outputs": [
    {
     "name": "stdout",
     "output_type": "stream",
     "text": [
      "[-3.01226200e-01  3.65229641e+01  1.20000000e+02  7.98348468e+02]\n",
      "[ 52.5234051  13.4113999  39.        865.6850042]\n",
      "[ 25.2644444   55.3116667   33.         867.30901582]\n",
      "[ 41.00527     28.97696     23.         238.81220948]\n",
      "[ 32.05950188  34.78865671  23.         117.92079106]\n",
      "[ 50.1115118    8.6805059   16.         883.16154355]\n"
     ]
    }
   ],
   "source": [
    "for i in range(len(clusters3)):\n",
    "    if distance(clusters3[i], office[1])<1000:\n",
    "        print(np.hstack((clusters3[i], distance(clusters3[i], office[1]))))"
   ]
  },
  {
   "cell_type": "markdown",
   "metadata": {},
   "source": [
    "Офис 3:"
   ]
  },
  {
   "cell_type": "code",
   "execution_count": 147,
   "metadata": {},
   "outputs": [
    {
     "name": "stdout",
     "output_type": "stream",
     "text": [
      "[ 55.74834952  37.62385042  44.         210.65409393]\n",
      "[ 25.2644444   55.3116667   33.         702.96845976]\n",
      "[ 41.00527  28.97696  23.      617.62587]\n",
      "[ 32.05950188  34.78865671  23.         657.42004778]\n",
      "[ 60.16995389  24.93773012  16.         780.8302263 ]\n"
     ]
    }
   ],
   "source": [
    "for i in range(len(clusters3)):\n",
    "    if distance(clusters3[i], office[2])<1000:\n",
    "        print(np.hstack((clusters3[i], distance(clusters3[i], office[2]))))"
   ]
  },
  {
   "cell_type": "markdown",
   "metadata": {},
   "source": [
    "Офис 4:"
   ]
  },
  {
   "cell_type": "code",
   "execution_count": 148,
   "metadata": {},
   "outputs": [
    {
     "name": "stdout",
     "output_type": "stream",
     "text": [
      "[ 55.74834952  37.62385042  44.         229.06454159]\n",
      "[ 25.2644444   55.3116667   33.         743.79453282]\n",
      "[ 41.00527     28.97696     23.         677.00983783]\n",
      "[ 32.05950188  34.78865671  23.         722.29414401]\n",
      "[ 60.16995389  24.93773012  16.         813.71808933]\n"
     ]
    }
   ],
   "source": [
    "for i in range(len(clusters3)):\n",
    "    if distance(clusters3[i], office[3])<1000:\n",
    "        print(np.hstack((clusters3[i], distance(clusters3[i], office[3]))))"
   ]
  },
  {
   "cell_type": "markdown",
   "metadata": {},
   "source": [
    "Офис 5:"
   ]
  },
  {
   "cell_type": "code",
   "execution_count": 149,
   "metadata": {},
   "outputs": [
    {
     "name": "stdout",
     "output_type": "stream",
     "text": [
      "[ 55.74834952  37.62385042  44.         271.40220182]\n",
      "[ 52.5234051   13.4113999   39.         846.77104026]\n",
      "[ 25.2644444   55.3116667   33.         453.11636116]\n",
      "[ 41.00527   28.97696   23.       110.627881]\n",
      "[32.05950188 34.78865671 23.         74.34856171]\n",
      "[ 55.68682618  12.58994255  17.         983.33680336]\n",
      "[ 60.16995389  24.93773012  16.         640.97325968]\n"
     ]
    }
   ],
   "source": [
    "for i in range(len(clusters3)):\n",
    "    if distance(clusters3[i], office[4])<1000:\n",
    "        print(np.hstack((clusters3[i], distance(clusters3[i], office[4]))))"
   ]
  },
  {
   "cell_type": "markdown",
   "metadata": {},
   "source": [
    "Офис 6:"
   ]
  },
  {
   "cell_type": "code",
   "execution_count": 150,
   "metadata": {},
   "outputs": [
    {
     "name": "stdout",
     "output_type": "stream",
     "text": [
      "[-23.54951835 -46.63821888 116.         269.54731344]\n",
      "[-22.9035393  -43.2095869   47.         207.48612798]\n",
      "[-34.61199596 -58.37186536  26.         600.96987133]\n"
     ]
    }
   ],
   "source": [
    "for i in range(len(clusters3)):\n",
    "    if distance(clusters3[i], office[5])<1000:\n",
    "        print(np.hstack((clusters3[i], distance(clusters3[i], office[5]))))"
   ]
  },
  {
   "cell_type": "code",
   "execution_count": null,
   "metadata": {},
   "outputs": [],
   "source": []
  },
  {
   "cell_type": "code",
   "execution_count": null,
   "metadata": {},
   "outputs": [],
   "source": []
  },
  {
   "cell_type": "code",
   "execution_count": null,
   "metadata": {},
   "outputs": [],
   "source": []
  },
  {
   "cell_type": "code",
   "execution_count": null,
   "metadata": {},
   "outputs": [],
   "source": []
  },
  {
   "cell_type": "code",
   "execution_count": null,
   "metadata": {},
   "outputs": [],
   "source": []
  }
 ],
 "metadata": {
  "kernelspec": {
   "display_name": "Python 3",
   "language": "python",
   "name": "python3"
  },
  "language_info": {
   "codemirror_mode": {
    "name": "ipython",
    "version": 3
   },
   "file_extension": ".py",
   "mimetype": "text/x-python",
   "name": "python",
   "nbconvert_exporter": "python",
   "pygments_lexer": "ipython3",
   "version": "3.7.3"
  }
 },
 "nbformat": 4,
 "nbformat_minor": 2
}
