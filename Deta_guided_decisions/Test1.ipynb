{
 "cells": [
  {
   "cell_type": "code",
   "execution_count": 1,
   "metadata": {},
   "outputs": [
    {
     "name": "stdout",
     "output_type": "stream",
     "text": [
      "0.24.2\n",
      "1.16.4\n"
     ]
    }
   ],
   "source": [
    "import numpy as np\n",
    "import pandas as pd\n",
    "print(pd.__version__)\n",
    "print(np.__version__)"
   ]
  },
  {
   "cell_type": "code",
   "execution_count": 5,
   "metadata": {},
   "outputs": [],
   "source": [
    "data=pd.read_csv('water.txt', sep='\\t')"
   ]
  },
  {
   "cell_type": "code",
   "execution_count": 6,
   "metadata": {},
   "outputs": [
    {
     "data": {
      "text/html": [
       "<div>\n",
       "<style scoped>\n",
       "    .dataframe tbody tr th:only-of-type {\n",
       "        vertical-align: middle;\n",
       "    }\n",
       "\n",
       "    .dataframe tbody tr th {\n",
       "        vertical-align: top;\n",
       "    }\n",
       "\n",
       "    .dataframe thead th {\n",
       "        text-align: right;\n",
       "    }\n",
       "</style>\n",
       "<table border=\"1\" class=\"dataframe\">\n",
       "  <thead>\n",
       "    <tr style=\"text-align: right;\">\n",
       "      <th></th>\n",
       "      <th>location</th>\n",
       "      <th>town</th>\n",
       "      <th>mortality</th>\n",
       "      <th>hardness</th>\n",
       "    </tr>\n",
       "  </thead>\n",
       "  <tbody>\n",
       "    <tr>\n",
       "      <th>0</th>\n",
       "      <td>South</td>\n",
       "      <td>Bath</td>\n",
       "      <td>1247</td>\n",
       "      <td>105</td>\n",
       "    </tr>\n",
       "    <tr>\n",
       "      <th>1</th>\n",
       "      <td>North</td>\n",
       "      <td>Birkenhead</td>\n",
       "      <td>1668</td>\n",
       "      <td>17</td>\n",
       "    </tr>\n",
       "    <tr>\n",
       "      <th>2</th>\n",
       "      <td>South</td>\n",
       "      <td>Birmingham</td>\n",
       "      <td>1466</td>\n",
       "      <td>5</td>\n",
       "    </tr>\n",
       "    <tr>\n",
       "      <th>3</th>\n",
       "      <td>North</td>\n",
       "      <td>Blackburn</td>\n",
       "      <td>1800</td>\n",
       "      <td>14</td>\n",
       "    </tr>\n",
       "    <tr>\n",
       "      <th>4</th>\n",
       "      <td>North</td>\n",
       "      <td>Blackpool</td>\n",
       "      <td>1609</td>\n",
       "      <td>18</td>\n",
       "    </tr>\n",
       "  </tbody>\n",
       "</table>\n",
       "</div>"
      ],
      "text/plain": [
       "  location        town  mortality  hardness\n",
       "0    South        Bath       1247       105\n",
       "1    North  Birkenhead       1668        17\n",
       "2    South  Birmingham       1466         5\n",
       "3    North   Blackburn       1800        14\n",
       "4    North   Blackpool       1609        18"
      ]
     },
     "execution_count": 6,
     "metadata": {},
     "output_type": "execute_result"
    }
   ],
   "source": [
    "data.head()"
   ]
  },
  {
   "cell_type": "code",
   "execution_count": 10,
   "metadata": {},
   "outputs": [
    {
     "data": {
      "text/plain": [
       "0     South\n",
       "1     North\n",
       "2     South\n",
       "3     North\n",
       "4     North\n",
       "5     North\n",
       "6     North\n",
       "7     South\n",
       "8     North\n",
       "9     South\n",
       "10    South\n",
       "11    North\n",
       "12    South\n",
       "13    South\n",
       "14    South\n",
       "15    North\n",
       "16    North\n",
       "17    North\n",
       "18    South\n",
       "19    South\n",
       "20    North\n",
       "21    North\n",
       "22    North\n",
       "23    North\n",
       "24    North\n",
       "25    South\n",
       "26    North\n",
       "27    South\n",
       "28    North\n",
       "29    North\n",
       "      ...  \n",
       "31    North\n",
       "32    South\n",
       "33    South\n",
       "34    South\n",
       "35    North\n",
       "36    North\n",
       "37    South\n",
       "38    South\n",
       "39    South\n",
       "40    North\n",
       "41    South\n",
       "42    North\n",
       "43    North\n",
       "44    North\n",
       "45    North\n",
       "46    North\n",
       "47    South\n",
       "48    South\n",
       "49    North\n",
       "50    North\n",
       "51    North\n",
       "52    North\n",
       "53    North\n",
       "54    South\n",
       "55    North\n",
       "56    South\n",
       "57    South\n",
       "58    South\n",
       "59    South\n",
       "60    North\n",
       "Name: location, Length: 61, dtype: object"
      ]
     },
     "execution_count": 10,
     "metadata": {},
     "output_type": "execute_result"
    }
   ],
   "source": [
    "data.iloc[:,0]"
   ]
  },
  {
   "cell_type": "code",
   "execution_count": 15,
   "metadata": {},
   "outputs": [
    {
     "data": {
      "text/plain": [
       "array([<matplotlib.axes._subplots.AxesSubplot object at 0x00000000069EA668>,\n",
       "       <matplotlib.axes._subplots.AxesSubplot object at 0x0000000008EF0358>],\n",
       "      dtype=object)"
      ]
     },
     "execution_count": 15,
     "metadata": {},
     "output_type": "execute_result"
    },
    {
     "data": {
      "image/png": "[encoded data removed]",
      "text/plain": [
       "<Figure size 576x576 with 2 Axes>"
      ]
     },
     "metadata": {
      "needs_background": "light"
     },
     "output_type": "display_data"
    }
   ],
   "source": [
    "data.hist(column='mortality', by='location', figsize=(8,8))"
   ]
  },
  {
   "cell_type": "code",
   "execution_count": 12,
   "metadata": {},
   "outputs": [],
   "source": [
    "import matplotlib\n",
    "%matplotlib inline"
   ]
  },
  {
   "cell_type": "code",
   "execution_count": 20,
   "metadata": {},
   "outputs": [],
   "source": [
    "mean_mortality=data.iloc[:,2].mean()"
   ]
  },
  {
   "cell_type": "code",
   "execution_count": 39,
   "metadata": {},
   "outputs": [],
   "source": [
    "std_mortality=data.iloc[:,2].std(ddof=1)"
   ]
  },
  {
   "cell_type": "code",
   "execution_count": 40,
   "metadata": {},
   "outputs": [
    {
     "name": "stdout",
     "output_type": "stream",
     "text": [
      "1148.8100331206924\n"
     ]
    }
   ],
   "source": [
    "print(mean_mortality-2*std_mortality)"
   ]
  },
  {
   "cell_type": "markdown",
   "metadata": {},
   "source": [
    "Задание 3"
   ]
  },
  {
   "cell_type": "code",
   "execution_count": 30,
   "metadata": {},
   "outputs": [],
   "source": [
    "df_south=data.loc[lambda data: data['location']=='South']"
   ]
  },
  {
   "cell_type": "code",
   "execution_count": 51,
   "metadata": {},
   "outputs": [
    {
     "name": "stdout",
     "output_type": "stream",
     "text": [
      "Lower:  1477.05259956449\n",
      "Upper:  1571.2424824027232\n"
     ]
    }
   ],
   "source": [
    "mean_mortality=data.iloc[:,2].mean()\n",
    "std_mortality=data.iloc[:,2].std()\n",
    "p_i(z, std_mortality, len(data.iloc[:,2]), mean_mortality)"
   ]
  },
  {
   "cell_type": "code",
   "execution_count": 50,
   "metadata": {},
   "outputs": [],
   "source": [
    "z=1.95996"
   ]
  },
  {
   "cell_type": "code",
   "execution_count": 44,
   "metadata": {},
   "outputs": [],
   "source": [
    "def p_i(z, sigma, n, mean):\n",
    "    print('Lower: ' , mean-z*sigma/np.sqrt(n))\n",
    "    print('Upper: ' , mean+z*sigma/np.sqrt(n))"
   ]
  },
  {
   "cell_type": "code",
   "execution_count": 52,
   "metadata": {},
   "outputs": [
    {
     "name": "stdout",
     "output_type": "stream",
     "text": [
      "Lower:  1322.891057534682\n",
      "Upper:  1430.7243270807028\n"
     ]
    }
   ],
   "source": [
    "mean_mortality1=df_south.iloc[:,2].mean()\n",
    "std_mortality1=df_south.iloc[:,2].std()\n",
    "#print(mean_mortality1-2*std_mortality1)\n",
    "#print(mean_mortality1+2*std_mortality1)\n",
    "p_i(z, std_mortality1, len(df_south.iloc[:,2]), mean_mortality1)"
   ]
  },
  {
   "cell_type": "code",
   "execution_count": null,
   "metadata": {},
   "outputs": [],
   "source": []
  },
  {
   "cell_type": "code",
   "execution_count": 46,
   "metadata": {},
   "outputs": [
    {
     "name": "stdout",
     "output_type": "stream",
     "text": [
      "Lower:  1588.2327372553602\n",
      "Upper:  1678.9672627446396\n"
     ]
    }
   ],
   "source": [
    "df_north=data.loc[lambda data: data['location']=='North']\n",
    "mean_mortality2=df_north.iloc[:,2].mean()\n",
    "std_mortality2=df_north.iloc[:,2].std()\n",
    "p_i(z, std_mortality2, len(df_north.iloc[:,2]), mean_mortality2)"
   ]
  },
  {
   "cell_type": "markdown",
   "metadata": {},
   "source": [
    "Задание 5"
   ]
  },
  {
   "cell_type": "code",
   "execution_count": 47,
   "metadata": {},
   "outputs": [
    {
     "name": "stdout",
     "output_type": "stream",
     "text": [
      "Lower:  54.25508424908598\n",
      "Upper:  85.28337728937557\n"
     ]
    }
   ],
   "source": [
    "mean_hardness1=df_south.iloc[:,3].mean()\n",
    "std_hardness1=df_south.iloc[:,3].std()\n",
    "p_i(z, std_hardness1, len(df_south.iloc[:,2]), mean_hardness1)"
   ]
  },
  {
   "cell_type": "code",
   "execution_count": 48,
   "metadata": {},
   "outputs": [
    {
     "name": "stdout",
     "output_type": "stream",
     "text": [
      "Lower:  21.741629986301252\n",
      "Upper:  39.05837001369875\n"
     ]
    }
   ],
   "source": [
    "mean_hardness2=df_north.iloc[:,3].mean()\n",
    "std_hardness2=df_north.iloc[:,3].std()\n",
    "p_i(z, std_hardness2, len(df_north.iloc[:,2]), mean_hardness2)"
   ]
  },
  {
   "cell_type": "code",
   "execution_count": 37,
   "metadata": {},
   "outputs": [
    {
     "data": {
      "text/plain": [
       "array([<matplotlib.axes._subplots.AxesSubplot object at 0x000000000913AB70>,\n",
       "       <matplotlib.axes._subplots.AxesSubplot object at 0x0000000009075898>],\n",
       "      dtype=object)"
      ]
     },
     "execution_count": 37,
     "metadata": {},
     "output_type": "execute_result"
    },
    {
     "data": {
      "image/png": "[encoded data removed]",
      "text/plain": [
       "<Figure size 576x576 with 2 Axes>"
      ]
     },
     "metadata": {
      "needs_background": "light"
     },
     "output_type": "display_data"
    }
   ],
   "source": [
    "data.hist(column='hardness', by='location', figsize=(8,8))"
   ]
  },
  {
   "cell_type": "markdown",
   "metadata": {},
   "source": [
    "Задание 6"
   ]
  },
  {
   "cell_type": "code",
   "execution_count": 38,
   "metadata": {},
   "outputs": [
    {
     "name": "stdout",
     "output_type": "stream",
     "text": [
      "384.1599999999999\n"
     ]
    }
   ],
   "source": [
    "alpha=0.95\n",
    "sigma=1.0\n",
    "z=1.96\n",
    "e=0.1\n",
    "n=(z*sigma/e)**2\n",
    "print(n)"
   ]
  },
  {
   "cell_type": "markdown",
   "metadata": {},
   "source": [
    "Доверительный интервал через scipy.stats"
   ]
  },
  {
   "cell_type": "code",
   "execution_count": 53,
   "metadata": {},
   "outputs": [],
   "source": [
    "import scipy.stats as ss"
   ]
  },
  {
   "cell_type": "code",
   "execution_count": 54,
   "metadata": {},
   "outputs": [],
   "source": [
    "def mean_conf(data, confidence=0.95):\n",
    "    a=1.0*np.array(data)\n",
    "    n=len(a)\n",
    "    m, se = np.mean(a), ss.sem(a)\n",
    "    h=se*ss.t._ppf((1+confidence)/2., n-1)\n",
    "    print('C_u: ', m+h)\n",
    "    print('C_l: ', m-h)"
   ]
  },
  {
   "cell_type": "code",
   "execution_count": 55,
   "metadata": {},
   "outputs": [
    {
     "name": "stdout",
     "output_type": "stream",
     "text": [
      "C_u:  1572.2117406119285\n",
      "C_l:  1476.0833413552848\n",
      "C_u:  1433.463638321761\n",
      "C_l:  1320.1517462936238\n"
     ]
    }
   ],
   "source": [
    "mean_conf(data.iloc[:,2])\n",
    "mean_conf(df_south.iloc[:,2])"
   ]
  }
 ],
 "metadata": {
  "kernelspec": {
   "display_name": "Python 3",
   "language": "python",
   "name": "python3"
  },
  "language_info": {
   "codemirror_mode": {
    "name": "ipython",
    "version": 3
   },
   "file_extension": ".py",
   "mimetype": "text/x-python",
   "name": "python",
   "nbconvert_exporter": "python",
   "pygments_lexer": "ipython3",
   "version": "3.7.3"
  }
 },
 "nbformat": 4,
 "nbformat_minor": 2
}
