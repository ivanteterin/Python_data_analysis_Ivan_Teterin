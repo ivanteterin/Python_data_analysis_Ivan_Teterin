{
 "cells": [
  {
   "cell_type": "code",
   "execution_count": 1,
   "metadata": {},
   "outputs": [],
   "source": [
    "from scipy.stats import norm"
   ]
  },
  {
   "cell_type": "code",
   "execution_count": 2,
   "metadata": {},
   "outputs": [
    {
     "data": {
      "text/plain": [
       "-2.9677379253417833"
      ]
     },
     "execution_count": 2,
     "metadata": {},
     "output_type": "execute_result"
    }
   ],
   "source": [
    "norm.ppf(0.0015, loc=0, scale=1)"
   ]
  },
  {
   "cell_type": "code",
   "execution_count": 3,
   "metadata": {},
   "outputs": [],
   "source": [
    "import numpy as np\n",
    "import pandas as pd\n",
    "\n",
    "import scipy\n",
    "from statsmodels.stats.weightstats import *\n",
    "from statsmodels.stats.proportion import proportion_confint"
   ]
  },
  {
   "cell_type": "code",
   "execution_count": 4,
   "metadata": {},
   "outputs": [],
   "source": [
    "conf_asp = proportion_confint(104, 11037, method = 'wilson')\n",
    "conf_pla = proportion_confint(189, 11034, method = 'wilson')"
   ]
  },
  {
   "cell_type": "code",
   "execution_count": 5,
   "metadata": {},
   "outputs": [
    {
     "name": "stdout",
     "output_type": "stream",
     "text": [
      "interval for banner a [0.007783, 0.011404]\n",
      "interval for banner b [0.014871, 0.019723]\n"
     ]
    }
   ],
   "source": [
    "print('interval for banner a [%f, %f]' % conf_asp)\n",
    "print('interval for banner b [%f, %f]' % conf_pla)"
   ]
  },
  {
   "cell_type": "code",
   "execution_count": 6,
   "metadata": {},
   "outputs": [],
   "source": [
    "def proportions_confint_diff_ind(p1, n1, p2, n2, alpha = 0.05):    \n",
    "    z = scipy.stats.norm.ppf(1 - alpha / 2.)   \n",
    "    #p1 = float(sum(sample1)) / len(sample1)\n",
    "    #p2 = float(sum(sample2)) / len(sample2)\n",
    "    pr1 = float(p1 / n1)\n",
    "    pr2 = float(p2 / n2)\n",
    "    \n",
    "    left_boundary = (pr1 - pr2) - z * np.sqrt(pr1 * (1 - pr1)/ n1 + pr2 * (1 - pr2)/ n2)\n",
    "    right_boundary = (pr1 - pr2) + z * np.sqrt(pr1 * (1 - pr1)/ n1 + pr2 * (1 - pr2)/ n2)\n",
    "    \n",
    "    return (left_boundary, right_boundary)"
   ]
  },
  {
   "cell_type": "code",
   "execution_count": 8,
   "metadata": {},
   "outputs": [
    {
     "ename": "SyntaxError",
     "evalue": "unexpected EOF while parsing (<ipython-input-8-7da08a216451>, line 1)",
     "output_type": "error",
     "traceback": [
      "\u001b[1;36m  File \u001b[1;32m\"<ipython-input-8-7da08a216451>\"\u001b[1;36m, line \u001b[1;32m1\u001b[0m\n\u001b[1;33m    print(proportions_confint_diff_ind(p1=104, n1=11037, p2=189, n2=11034, alpha=0.05)\u001b[0m\n\u001b[1;37m                                                                                      ^\u001b[0m\n\u001b[1;31mSyntaxError\u001b[0m\u001b[1;31m:\u001b[0m unexpected EOF while parsing\n"
     ]
    }
   ],
   "source": [
    "print(proportions_confint_diff_ind(p1=104, n1=11037, p2=189, n2=11034, alpha=0.05)"
   ]
  },
  {
   "cell_type": "code",
   "execution_count": 9,
   "metadata": {},
   "outputs": [
    {
     "name": "stdout",
     "output_type": "stream",
     "text": [
      "-0.010724297276960124 -0.004687750675049439\n"
     ]
    }
   ],
   "source": [
    "p1=104\n",
    "n1=11037\n",
    "p2=189\n",
    "n2=11034\n",
    "alpha=0.05\n",
    "z = scipy.stats.norm.ppf(1 - alpha / 2.)   \n",
    "    #p1 = float(sum(sample1)) / len(sample1)\n",
    "    #p2 = float(sum(sample2)) / len(sample2)\n",
    "pr1 = float(p1 / n1)\n",
    "pr2 = float(p2 / n2)\n",
    "    \n",
    "left_boundary = (pr1 - pr2) - z * np.sqrt(pr1 * (1 - pr1)/ n1 + pr2 * (1 - pr2)/ n2)\n",
    "right_boundary = (pr1 - pr2) + z * np.sqrt(pr1 * (1 - pr1)/ n1 + pr2 * (1 - pr2)/ n2)\n",
    "    \n",
    "print (left_boundary, right_boundary)"
   ]
  },
  {
   "cell_type": "code",
   "execution_count": 10,
   "metadata": {},
   "outputs": [
    {
     "name": "stdout",
     "output_type": "stream",
     "text": [
      "0.0077060239760047815\n"
     ]
    }
   ],
   "source": [
    "print(p2/n2-p1/n1)"
   ]
  },
  {
   "cell_type": "code",
   "execution_count": 12,
   "metadata": {},
   "outputs": [
    {
     "name": "stdout",
     "output_type": "stream",
     "text": [
      "1.8320539419087136\n"
     ]
    }
   ],
   "source": [
    "print(p2/(n2-p2)/p1*(n1-p1))"
   ]
  },
  {
   "cell_type": "markdown",
   "metadata": {},
   "source": [
    "Задание 8"
   ]
  },
  {
   "cell_type": "code",
   "execution_count": 15,
   "metadata": {},
   "outputs": [],
   "source": [
    "# Создание векторов\n",
    "asp=np.array([1]*104+ [0]*(11037-104))\n",
    "pla=np.array([1]*189+ [0]*(11034-189))"
   ]
  },
  {
   "cell_type": "code",
   "execution_count": 16,
   "metadata": {},
   "outputs": [],
   "source": [
    "def get_bootstrap_samples(data, n_samples):\n",
    "    indices = np.random.randint(0, len(data), (n_samples, len(data)))\n",
    "    samples = data[indices]\n",
    "    return samples"
   ]
  },
  {
   "cell_type": "code",
   "execution_count": 33,
   "metadata": {},
   "outputs": [],
   "source": [
    "import random\n",
    "np.random.seed(0)\n",
    "s_a=get_bootstrap_samples(asp, 1000)\n",
    "s_p=get_bootstrap_samples(pla, 1000)"
   ]
  },
  {
   "cell_type": "code",
   "execution_count": 34,
   "metadata": {},
   "outputs": [],
   "source": [
    "def chance (a, b):\n",
    "    return sum(a)/(len(a)-sum(a))/sum(b)*(len(b)-sum(b))"
   ]
  },
  {
   "cell_type": "code",
   "execution_count": 43,
   "metadata": {},
   "outputs": [],
   "source": [
    "otn=list(map(chance, s_p,s_a))"
   ]
  },
  {
   "cell_type": "code",
   "execution_count": 44,
   "metadata": {},
   "outputs": [
    {
     "data": {
      "text/plain": [
       "1.9655216665953716"
      ]
     },
     "execution_count": 44,
     "metadata": {},
     "output_type": "execute_result"
    }
   ],
   "source": [
    "otn[2]"
   ]
  },
  {
   "cell_type": "code",
   "execution_count": 46,
   "metadata": {},
   "outputs": [],
   "source": [
    "def stat_intervals(stat, alpha):\n",
    "    boundaries = np.percentile(stat, [100 * alpha / 2., 100 * (1 - alpha / 2.)])\n",
    "    return boundaries"
   ]
  },
  {
   "cell_type": "code",
   "execution_count": 47,
   "metadata": {},
   "outputs": [
    {
     "name": "stdout",
     "output_type": "stream",
     "text": [
      "95% confidence interval for the ILEC median repair time: [1.44419465 2.34321168]\n"
     ]
    }
   ],
   "source": [
    "#chance_scores = list(map(np.median, get_bootstrap_samples(ilec_time, 1000)))\n",
    "#clec_median_scores = list(map(np.median, get_bootstrap_samples(clec_time, 1000)))\n",
    "\n",
    "print(\"95% confidence interval for the ILEC median repair time:\",  stat_intervals(otn, 0.05))"
   ]
  },
  {
   "cell_type": "raw",
   "metadata": {},
   "source": []
  },
  {
   "cell_type": "code",
   "execution_count": null,
   "metadata": {},
   "outputs": [],
   "source": []
  },
  {
   "cell_type": "code",
   "execution_count": null,
   "metadata": {},
   "outputs": [],
   "source": []
  },
  {
   "cell_type": "code",
   "execution_count": null,
   "metadata": {},
   "outputs": [],
   "source": []
  }
 ],
 "metadata": {
  "kernelspec": {
   "display_name": "Python 3",
   "language": "python",
   "name": "python3"
  },
  "language_info": {
   "codemirror_mode": {
    "name": "ipython",
    "version": 3
   },
   "file_extension": ".py",
   "mimetype": "text/x-python",
   "name": "python",
   "nbconvert_exporter": "python",
   "pygments_lexer": "ipython3",
   "version": "3.7.3"
  }
 },
 "nbformat": 4,
 "nbformat_minor": 2
}
